{
 "cells": [
  {
   "cell_type": "code",
   "execution_count": 1,
   "metadata": {},
   "outputs": [],
   "source": [
    "import pandas as pd\n",
    "import plotly.graph_objects as go"
   ]
  },
  {
   "cell_type": "code",
   "execution_count": 2,
   "metadata": {},
   "outputs": [],
   "source": [
    "d = pd.read_csv(\"../assets/data/births.csv\")"
   ]
  },
  {
   "cell_type": "code",
   "execution_count": 13,
   "metadata": {},
   "outputs": [],
   "source": [
    "sexValues = ['total']\n",
    "placeOptions = ['AUS', 'BGR']\n",
    "\n",
    "sexValue = 'female'\n"
   ]
  },
  {
   "cell_type": "code",
   "execution_count": 12,
   "metadata": {},
   "outputs": [
    {
     "data": {
      "text/html": [
       "<div>\n",
       "<style scoped>\n",
       "    .dataframe tbody tr th:only-of-type {\n",
       "        vertical-align: middle;\n",
       "    }\n",
       "\n",
       "    .dataframe tbody tr th {\n",
       "        vertical-align: top;\n",
       "    }\n",
       "\n",
       "    .dataframe thead th {\n",
       "        text-align: right;\n",
       "    }\n",
       "</style>\n",
       "<table border=\"1\" class=\"dataframe\">\n",
       "  <thead>\n",
       "    <tr style=\"text-align: right;\">\n",
       "      <th></th>\n",
       "      <th>country</th>\n",
       "      <th>year</th>\n",
       "      <th>sex</th>\n",
       "      <th>number_of_births</th>\n",
       "    </tr>\n",
       "  </thead>\n",
       "  <tbody>\n",
       "    <tr>\n",
       "      <th>2</th>\n",
       "      <td>Australia</td>\n",
       "      <td>1860</td>\n",
       "      <td>total</td>\n",
       "      <td>47726</td>\n",
       "    </tr>\n",
       "    <tr>\n",
       "      <th>5</th>\n",
       "      <td>Australia</td>\n",
       "      <td>1861</td>\n",
       "      <td>total</td>\n",
       "      <td>48908</td>\n",
       "    </tr>\n",
       "    <tr>\n",
       "      <th>8</th>\n",
       "      <td>Australia</td>\n",
       "      <td>1862</td>\n",
       "      <td>total</td>\n",
       "      <td>51379</td>\n",
       "    </tr>\n",
       "    <tr>\n",
       "      <th>11</th>\n",
       "      <td>Australia</td>\n",
       "      <td>1863</td>\n",
       "      <td>total</td>\n",
       "      <td>51367</td>\n",
       "    </tr>\n",
       "    <tr>\n",
       "      <th>14</th>\n",
       "      <td>Australia</td>\n",
       "      <td>1864</td>\n",
       "      <td>total</td>\n",
       "      <td>55446</td>\n",
       "    </tr>\n",
       "  </tbody>\n",
       "</table>\n",
       "</div>"
      ],
      "text/plain": [
       "      country  year    sex  number_of_births\n",
       "2   Australia  1860  total             47726\n",
       "5   Australia  1861  total             48908\n",
       "8   Australia  1862  total             51379\n",
       "11  Australia  1863  total             51367\n",
       "14  Australia  1864  total             55446"
      ]
     },
     "execution_count": 12,
     "metadata": {},
     "output_type": "execute_result"
    }
   ],
   "source": [
    "d2 = d.loc[\n",
    "    (d['sex'].isin(sexValues) & d['cntry'].isin(placeOptions)),\n",
    "    ['country', 'year', 'sex', 'number_of_births']\n",
    "]\n",
    "d2.head()"
   ]
  },
  {
   "attachments": {},
   "cell_type": "markdown",
   "metadata": {},
   "source": [
    "The .isin() method only works with lists as arguments. If a string or number is passed then it will not work."
   ]
  },
  {
   "cell_type": "code",
   "execution_count": 16,
   "metadata": {},
   "outputs": [
    {
     "data": {
      "text/plain": [
       "str"
      ]
     },
     "execution_count": 16,
     "metadata": {},
     "output_type": "execute_result"
    }
   ],
   "source": [
    "type(sexValue)\n"
   ]
  },
  {
   "cell_type": "code",
   "execution_count": 17,
   "metadata": {},
   "outputs": [
    {
     "data": {
      "text/plain": [
       "list"
      ]
     },
     "execution_count": 17,
     "metadata": {},
     "output_type": "execute_result"
    }
   ],
   "source": [
    "type(sexValues)"
   ]
  },
  {
   "attachments": {},
   "cell_type": "markdown",
   "metadata": {},
   "source": [
    "In the code below sexValue, a string, is wrapped in [] to make it list, and so appropriate for the .isin() method"
   ]
  },
  {
   "attachments": {},
   "cell_type": "markdown",
   "metadata": {},
   "source": [
    "Alternatively, we could consider forcing sexValue to always be a string, so that only one sex is returned at a time? This would prevent the length of years being twice as long as the number of unique years? \n",
    "\n"
   ]
  },
  {
   "cell_type": "code",
   "execution_count": 19,
   "metadata": {},
   "outputs": [
    {
     "data": {
      "text/html": [
       "<div>\n",
       "<style scoped>\n",
       "    .dataframe tbody tr th:only-of-type {\n",
       "        vertical-align: middle;\n",
       "    }\n",
       "\n",
       "    .dataframe tbody tr th {\n",
       "        vertical-align: top;\n",
       "    }\n",
       "\n",
       "    .dataframe thead th {\n",
       "        text-align: right;\n",
       "    }\n",
       "</style>\n",
       "<table border=\"1\" class=\"dataframe\">\n",
       "  <thead>\n",
       "    <tr style=\"text-align: right;\">\n",
       "      <th></th>\n",
       "      <th>country</th>\n",
       "      <th>year</th>\n",
       "      <th>sex</th>\n",
       "      <th>number_of_births</th>\n",
       "    </tr>\n",
       "  </thead>\n",
       "  <tbody>\n",
       "    <tr>\n",
       "      <th>0</th>\n",
       "      <td>Australia</td>\n",
       "      <td>1860</td>\n",
       "      <td>female</td>\n",
       "      <td>23262</td>\n",
       "    </tr>\n",
       "    <tr>\n",
       "      <th>3</th>\n",
       "      <td>Australia</td>\n",
       "      <td>1861</td>\n",
       "      <td>female</td>\n",
       "      <td>23806</td>\n",
       "    </tr>\n",
       "    <tr>\n",
       "      <th>6</th>\n",
       "      <td>Australia</td>\n",
       "      <td>1862</td>\n",
       "      <td>female</td>\n",
       "      <td>24896</td>\n",
       "    </tr>\n",
       "    <tr>\n",
       "      <th>9</th>\n",
       "      <td>Australia</td>\n",
       "      <td>1863</td>\n",
       "      <td>female</td>\n",
       "      <td>25134</td>\n",
       "    </tr>\n",
       "    <tr>\n",
       "      <th>12</th>\n",
       "      <td>Australia</td>\n",
       "      <td>1864</td>\n",
       "      <td>female</td>\n",
       "      <td>26838</td>\n",
       "    </tr>\n",
       "  </tbody>\n",
       "</table>\n",
       "</div>"
      ],
      "text/plain": [
       "      country  year     sex  number_of_births\n",
       "0   Australia  1860  female             23262\n",
       "3   Australia  1861  female             23806\n",
       "6   Australia  1862  female             24896\n",
       "9   Australia  1863  female             25134\n",
       "12  Australia  1864  female             26838"
      ]
     },
     "execution_count": 19,
     "metadata": {},
     "output_type": "execute_result"
    }
   ],
   "source": [
    "d3 = d.loc[\n",
    "    (d['sex'].isin([sexValue]) & d['cntry'].isin(placeOptions)),\n",
    "    ['country', 'year', 'sex', 'number_of_births']\n",
    "]\n",
    "d3.head()"
   ]
  },
  {
   "attachments": {},
   "cell_type": "markdown",
   "metadata": {},
   "source": [
    "Now want to know how to turn the contents into lists or strings\n",
    "\n"
   ]
  },
  {
   "cell_type": "code",
   "execution_count": 24,
   "metadata": {},
   "outputs": [],
   "source": [
    "d4 = d3.pivot(index = ['year', 'sex'], columns = 'country', values = 'number_of_births').reset_index()"
   ]
  },
  {
   "attachments": {},
   "cell_type": "markdown",
   "metadata": {},
   "source": [
    "This is okay except it has a country column which is really an index. However for the purposes of creating series this should be fine.."
   ]
  },
  {
   "cell_type": "code",
   "execution_count": 28,
   "metadata": {},
   "outputs": [
    {
     "data": {
      "text/plain": [
       "[1860,\n",
       " 1861,\n",
       " 1862,\n",
       " 1863,\n",
       " 1864,\n",
       " 1865,\n",
       " 1866,\n",
       " 1867,\n",
       " 1868,\n",
       " 1869,\n",
       " 1870,\n",
       " 1871,\n",
       " 1872,\n",
       " 1873,\n",
       " 1874,\n",
       " 1875,\n",
       " 1876,\n",
       " 1877,\n",
       " 1878,\n",
       " 1879,\n",
       " 1880,\n",
       " 1881,\n",
       " 1882,\n",
       " 1883,\n",
       " 1884,\n",
       " 1885,\n",
       " 1886,\n",
       " 1887,\n",
       " 1888,\n",
       " 1889,\n",
       " 1890,\n",
       " 1891,\n",
       " 1892,\n",
       " 1893,\n",
       " 1894,\n",
       " 1895,\n",
       " 1896,\n",
       " 1897,\n",
       " 1898,\n",
       " 1899,\n",
       " 1900,\n",
       " 1901,\n",
       " 1902,\n",
       " 1903,\n",
       " 1904,\n",
       " 1905,\n",
       " 1906,\n",
       " 1907,\n",
       " 1908,\n",
       " 1909,\n",
       " 1910,\n",
       " 1911,\n",
       " 1912,\n",
       " 1913,\n",
       " 1914,\n",
       " 1915,\n",
       " 1916,\n",
       " 1917,\n",
       " 1918,\n",
       " 1919,\n",
       " 1920,\n",
       " 1921,\n",
       " 1922,\n",
       " 1923,\n",
       " 1924,\n",
       " 1925,\n",
       " 1926,\n",
       " 1927,\n",
       " 1928,\n",
       " 1929,\n",
       " 1930,\n",
       " 1931,\n",
       " 1932,\n",
       " 1933,\n",
       " 1934,\n",
       " 1935,\n",
       " 1936,\n",
       " 1937,\n",
       " 1938,\n",
       " 1939,\n",
       " 1940,\n",
       " 1941,\n",
       " 1942,\n",
       " 1943,\n",
       " 1944,\n",
       " 1945,\n",
       " 1946,\n",
       " 1947,\n",
       " 1948,\n",
       " 1949,\n",
       " 1950,\n",
       " 1951,\n",
       " 1952,\n",
       " 1953,\n",
       " 1954,\n",
       " 1955,\n",
       " 1956,\n",
       " 1957,\n",
       " 1958,\n",
       " 1959,\n",
       " 1960,\n",
       " 1961,\n",
       " 1962,\n",
       " 1963,\n",
       " 1964,\n",
       " 1965,\n",
       " 1966,\n",
       " 1967,\n",
       " 1968,\n",
       " 1969,\n",
       " 1970,\n",
       " 1971,\n",
       " 1972,\n",
       " 1973,\n",
       " 1974,\n",
       " 1975,\n",
       " 1976,\n",
       " 1977,\n",
       " 1978,\n",
       " 1979,\n",
       " 1980,\n",
       " 1981,\n",
       " 1982,\n",
       " 1983,\n",
       " 1984,\n",
       " 1985,\n",
       " 1986,\n",
       " 1987,\n",
       " 1988,\n",
       " 1989,\n",
       " 1990,\n",
       " 1991,\n",
       " 1992,\n",
       " 1993,\n",
       " 1994,\n",
       " 1995,\n",
       " 1996,\n",
       " 1997,\n",
       " 1998,\n",
       " 1999,\n",
       " 2000,\n",
       " 2001,\n",
       " 2002,\n",
       " 2003,\n",
       " 2004,\n",
       " 2005,\n",
       " 2006,\n",
       " 2007,\n",
       " 2008,\n",
       " 2009,\n",
       " 2010,\n",
       " 2011,\n",
       " 2012,\n",
       " 2013,\n",
       " 2014,\n",
       " 2015,\n",
       " 2016,\n",
       " 2017,\n",
       " 2018,\n",
       " 2019,\n",
       " 2020,\n",
       " 2021]"
      ]
     },
     "execution_count": 28,
     "metadata": {},
     "output_type": "execute_result"
    }
   ],
   "source": [
    "yearSeries = d4['year'].tolist()\n",
    "yearSeries\n"
   ]
  },
  {
   "attachments": {},
   "cell_type": "markdown",
   "metadata": {},
   "source": [
    "The tilde ~ symbol negates the outputs, so false becomes true and vice versa. "
   ]
  },
  {
   "cell_type": "code",
   "execution_count": 35,
   "metadata": {},
   "outputs": [
    {
     "data": {
      "text/plain": [
       "array([False, False,  True,  True])"
      ]
     },
     "execution_count": 35,
     "metadata": {},
     "output_type": "execute_result"
    }
   ],
   "source": [
    "\n",
    "~d4.columns.isin(['year', 'sex'])"
   ]
  },
  {
   "attachments": {},
   "cell_type": "markdown",
   "metadata": {},
   "source": [
    "The number of years will be a multiple of the number of unique years, if there is more than one unique sex."
   ]
  },
  {
   "attachments": {},
   "cell_type": "markdown",
   "metadata": {},
   "source": [
    "Could it be that .to_dict() will do the majority of the work I need it to? "
   ]
  },
  {
   "cell_type": "code",
   "execution_count": 37,
   "metadata": {},
   "outputs": [],
   "source": [
    "s1 = d4.to_dict()"
   ]
  },
  {
   "cell_type": "code",
   "execution_count": 38,
   "metadata": {},
   "outputs": [
    {
     "data": {
      "text/plain": [
       "{0: 1860,\n",
       " 1: 1861,\n",
       " 2: 1862,\n",
       " 3: 1863,\n",
       " 4: 1864,\n",
       " 5: 1865,\n",
       " 6: 1866,\n",
       " 7: 1867,\n",
       " 8: 1868,\n",
       " 9: 1869,\n",
       " 10: 1870,\n",
       " 11: 1871,\n",
       " 12: 1872,\n",
       " 13: 1873,\n",
       " 14: 1874,\n",
       " 15: 1875,\n",
       " 16: 1876,\n",
       " 17: 1877,\n",
       " 18: 1878,\n",
       " 19: 1879,\n",
       " 20: 1880,\n",
       " 21: 1881,\n",
       " 22: 1882,\n",
       " 23: 1883,\n",
       " 24: 1884,\n",
       " 25: 1885,\n",
       " 26: 1886,\n",
       " 27: 1887,\n",
       " 28: 1888,\n",
       " 29: 1889,\n",
       " 30: 1890,\n",
       " 31: 1891,\n",
       " 32: 1892,\n",
       " 33: 1893,\n",
       " 34: 1894,\n",
       " 35: 1895,\n",
       " 36: 1896,\n",
       " 37: 1897,\n",
       " 38: 1898,\n",
       " 39: 1899,\n",
       " 40: 1900,\n",
       " 41: 1901,\n",
       " 42: 1902,\n",
       " 43: 1903,\n",
       " 44: 1904,\n",
       " 45: 1905,\n",
       " 46: 1906,\n",
       " 47: 1907,\n",
       " 48: 1908,\n",
       " 49: 1909,\n",
       " 50: 1910,\n",
       " 51: 1911,\n",
       " 52: 1912,\n",
       " 53: 1913,\n",
       " 54: 1914,\n",
       " 55: 1915,\n",
       " 56: 1916,\n",
       " 57: 1917,\n",
       " 58: 1918,\n",
       " 59: 1919,\n",
       " 60: 1920,\n",
       " 61: 1921,\n",
       " 62: 1922,\n",
       " 63: 1923,\n",
       " 64: 1924,\n",
       " 65: 1925,\n",
       " 66: 1926,\n",
       " 67: 1927,\n",
       " 68: 1928,\n",
       " 69: 1929,\n",
       " 70: 1930,\n",
       " 71: 1931,\n",
       " 72: 1932,\n",
       " 73: 1933,\n",
       " 74: 1934,\n",
       " 75: 1935,\n",
       " 76: 1936,\n",
       " 77: 1937,\n",
       " 78: 1938,\n",
       " 79: 1939,\n",
       " 80: 1940,\n",
       " 81: 1941,\n",
       " 82: 1942,\n",
       " 83: 1943,\n",
       " 84: 1944,\n",
       " 85: 1945,\n",
       " 86: 1946,\n",
       " 87: 1947,\n",
       " 88: 1948,\n",
       " 89: 1949,\n",
       " 90: 1950,\n",
       " 91: 1951,\n",
       " 92: 1952,\n",
       " 93: 1953,\n",
       " 94: 1954,\n",
       " 95: 1955,\n",
       " 96: 1956,\n",
       " 97: 1957,\n",
       " 98: 1958,\n",
       " 99: 1959,\n",
       " 100: 1960,\n",
       " 101: 1961,\n",
       " 102: 1962,\n",
       " 103: 1963,\n",
       " 104: 1964,\n",
       " 105: 1965,\n",
       " 106: 1966,\n",
       " 107: 1967,\n",
       " 108: 1968,\n",
       " 109: 1969,\n",
       " 110: 1970,\n",
       " 111: 1971,\n",
       " 112: 1972,\n",
       " 113: 1973,\n",
       " 114: 1974,\n",
       " 115: 1975,\n",
       " 116: 1976,\n",
       " 117: 1977,\n",
       " 118: 1978,\n",
       " 119: 1979,\n",
       " 120: 1980,\n",
       " 121: 1981,\n",
       " 122: 1982,\n",
       " 123: 1983,\n",
       " 124: 1984,\n",
       " 125: 1985,\n",
       " 126: 1986,\n",
       " 127: 1987,\n",
       " 128: 1988,\n",
       " 129: 1989,\n",
       " 130: 1990,\n",
       " 131: 1991,\n",
       " 132: 1992,\n",
       " 133: 1993,\n",
       " 134: 1994,\n",
       " 135: 1995,\n",
       " 136: 1996,\n",
       " 137: 1997,\n",
       " 138: 1998,\n",
       " 139: 1999,\n",
       " 140: 2000,\n",
       " 141: 2001,\n",
       " 142: 2002,\n",
       " 143: 2003,\n",
       " 144: 2004,\n",
       " 145: 2005,\n",
       " 146: 2006,\n",
       " 147: 2007,\n",
       " 148: 2008,\n",
       " 149: 2009,\n",
       " 150: 2010,\n",
       " 151: 2011,\n",
       " 152: 2012,\n",
       " 153: 2013,\n",
       " 154: 2014,\n",
       " 155: 2015,\n",
       " 156: 2016,\n",
       " 157: 2017,\n",
       " 158: 2018,\n",
       " 159: 2019,\n",
       " 160: 2020,\n",
       " 161: 2021}"
      ]
     },
     "execution_count": 38,
     "metadata": {},
     "output_type": "execute_result"
    }
   ],
   "source": [
    "s1.get('year')\n"
   ]
  },
  {
   "cell_type": "code",
   "execution_count": 43,
   "metadata": {},
   "outputs": [
    {
     "data": {
      "text/plain": [
       "array(['female'], dtype=object)"
      ]
     },
     "execution_count": 43,
     "metadata": {},
     "output_type": "execute_result"
    }
   ],
   "source": [
    "d4['sex'].drop_duplicates().values"
   ]
  },
  {
   "cell_type": "code",
   "execution_count": 48,
   "metadata": {},
   "outputs": [
    {
     "data": {
      "text/html": [
       "<div>\n",
       "<style scoped>\n",
       "    .dataframe tbody tr th:only-of-type {\n",
       "        vertical-align: middle;\n",
       "    }\n",
       "\n",
       "    .dataframe tbody tr th {\n",
       "        vertical-align: top;\n",
       "    }\n",
       "\n",
       "    .dataframe thead th {\n",
       "        text-align: right;\n",
       "    }\n",
       "</style>\n",
       "<table border=\"1\" class=\"dataframe\">\n",
       "  <thead>\n",
       "    <tr style=\"text-align: right;\">\n",
       "      <th>country</th>\n",
       "      <th>Australia</th>\n",
       "      <th>Bulgaria</th>\n",
       "    </tr>\n",
       "  </thead>\n",
       "  <tbody>\n",
       "    <tr>\n",
       "      <th>0</th>\n",
       "      <td>23262.0</td>\n",
       "      <td>NaN</td>\n",
       "    </tr>\n",
       "    <tr>\n",
       "      <th>1</th>\n",
       "      <td>23806.0</td>\n",
       "      <td>NaN</td>\n",
       "    </tr>\n",
       "    <tr>\n",
       "      <th>2</th>\n",
       "      <td>24896.0</td>\n",
       "      <td>NaN</td>\n",
       "    </tr>\n",
       "    <tr>\n",
       "      <th>3</th>\n",
       "      <td>25134.0</td>\n",
       "      <td>NaN</td>\n",
       "    </tr>\n",
       "    <tr>\n",
       "      <th>4</th>\n",
       "      <td>26838.0</td>\n",
       "      <td>NaN</td>\n",
       "    </tr>\n",
       "  </tbody>\n",
       "</table>\n",
       "</div>"
      ],
      "text/plain": [
       "country  Australia  Bulgaria\n",
       "0          23262.0       NaN\n",
       "1          23806.0       NaN\n",
       "2          24896.0       NaN\n",
       "3          25134.0       NaN\n",
       "4          26838.0       NaN"
      ]
     },
     "execution_count": 48,
     "metadata": {},
     "output_type": "execute_result"
    }
   ],
   "source": [
    "d4.head()\n",
    "d5 = d4.drop(['year', 'sex'], axis=1)\n",
    "d5.head()\n"
   ]
  },
  {
   "attachments": {},
   "cell_type": "markdown",
   "metadata": {},
   "source": [
    "With just the two countries it looks like .to_dict() will return the kind of output I want, maybe... though not sure about the index as the key within the dict.."
   ]
  },
  {
   "cell_type": "code",
   "execution_count": 51,
   "metadata": {},
   "outputs": [
    {
     "data": {
      "text/plain": [
       "{'Australia': {0: 23262.0,\n",
       "  1: 23806.0,\n",
       "  2: 24896.0,\n",
       "  3: 25134.0,\n",
       "  4: 26838.0,\n",
       "  5: 27986.0,\n",
       "  6: 27457.0,\n",
       "  7: 28922.0,\n",
       "  8: 29896.0,\n",
       "  9: 29527.0,\n",
       "  10: 30437.0,\n",
       "  11: 30921.0,\n",
       "  12: 31589.0,\n",
       "  13: 32561.0,\n",
       "  14: 32809.0,\n",
       "  15: 32970.0,\n",
       "  16: 33903.0,\n",
       "  17: 34041.0,\n",
       "  18: 35321.0,\n",
       "  19: 37203.0,\n",
       "  20: 37757.0,\n",
       "  21: 38884.0,\n",
       "  22: 39600.0,\n",
       "  23: 41533.0,\n",
       "  24: 44392.0,\n",
       "  25: 46210.0,\n",
       "  26: 47227.0,\n",
       "  27: 49309.0,\n",
       "  28: 50888.0,\n",
       "  29: 50678.0,\n",
       "  30: 53384.0,\n",
       "  31: 53758.0,\n",
       "  32: 53699.0,\n",
       "  33: 53125.0,\n",
       "  34: 50957.0,\n",
       "  35: 51184.0,\n",
       "  36: 48979.0,\n",
       "  37: 49440.0,\n",
       "  38: 48041.0,\n",
       "  39: 49209.0,\n",
       "  40: 49881.0,\n",
       "  41: 50436.0,\n",
       "  42: 50160.0,\n",
       "  43: 48037.0,\n",
       "  44: 50755.0,\n",
       "  45: 51046.0,\n",
       "  46: 52376.0,\n",
       "  47: 53858.0,\n",
       "  48: 54432.0,\n",
       "  49: 55589.0,\n",
       "  50: 56595.0,\n",
       "  51: 59685.0,\n",
       "  52: 65066.0,\n",
       "  53: 66280.0,\n",
       "  54: 67379.0,\n",
       "  55: 65822.0,\n",
       "  56: 63921.0,\n",
       "  57: 63082.0,\n",
       "  58: 61281.0,\n",
       "  59: 59359.0,\n",
       "  60: 66150.0,\n",
       "  61: 66159.0,\n",
       "  62: 66914.0,\n",
       "  63: 65857.0,\n",
       "  64: 66127.0,\n",
       "  65: 66250.0,\n",
       "  66: 64740.0,\n",
       "  67: 64818.0,\n",
       "  68: 64926.0,\n",
       "  69: 62857.0,\n",
       "  70: 62516.0,\n",
       "  71: 57488.0,\n",
       "  72: 53958.0,\n",
       "  73: 54109.0,\n",
       "  74: 53627.0,\n",
       "  75: 54433.0,\n",
       "  76: 56679.0,\n",
       "  77: 58226.0,\n",
       "  78: 58523.0,\n",
       "  79: 59838.0,\n",
       "  80: 61752.0,\n",
       "  81: 65564.0,\n",
       "  82: 66481.0,\n",
       "  83: 72942.0,\n",
       "  84: 75002.0,\n",
       "  85: 78103.0,\n",
       "  86: 85411.0,\n",
       "  87: 88566.0,\n",
       "  88: 86665.0,\n",
       "  89: 88515.0,\n",
       "  90: 92761.0,\n",
       "  91: 93897.0,\n",
       "  92: 98269.0,\n",
       "  93: 98736.0,\n",
       "  94: 98701.0,\n",
       "  95: 101227.0,\n",
       "  96: 102544.0,\n",
       "  97: 107121.0,\n",
       "  98: 108547.0,\n",
       "  99: 110735.0,\n",
       "  100: 111911.0,\n",
       "  101: 116874.0,\n",
       "  102: 114971.0,\n",
       "  103: 114553.0,\n",
       "  104: 111087.0,\n",
       "  105: 108388.0,\n",
       "  106: 108653.0,\n",
       "  107: 111616.0,\n",
       "  108: 117279.0,\n",
       "  109: 121905.0,\n",
       "  110: 125544.0,\n",
       "  111: 135248.0,\n",
       "  112: 128960.0,\n",
       "  113: 120701.0,\n",
       "  114: 118882.0,\n",
       "  115: 113012.0,\n",
       "  116: 110761.0,\n",
       "  117: 110070.0,\n",
       "  118: 109763.0,\n",
       "  119: 108462.0,\n",
       "  120: 110192.0,\n",
       "  121: 115511.0,\n",
       "  122: 116038.0,\n",
       "  123: 118256.0,\n",
       "  124: 118256.0,\n",
       "  125: 118886.0,\n",
       "  126: 118641.0,\n",
       "  127: 118856.0,\n",
       "  128: 122483.0,\n",
       "  129: 124089.0,\n",
       "  130: 127810.0,\n",
       "  131: 125601.0,\n",
       "  132: 128743.0,\n",
       "  133: 127177.0,\n",
       "  134: 127504.0,\n",
       "  135: 126674.0,\n",
       "  136: 125288.0,\n",
       "  137: 124546.0,\n",
       "  138: 123631.0,\n",
       "  139: 125036.0,\n",
       "  140: 124627.0,\n",
       "  141: 122483.0,\n",
       "  142: 123572.0,\n",
       "  143: 123285.0,\n",
       "  144: 123566.0,\n",
       "  145: 131015.0,\n",
       "  146: 134102.0,\n",
       "  147: 141355.0,\n",
       "  148: 143081.0,\n",
       "  149: 143981.0,\n",
       "  150: 145052.0,\n",
       "  151: 145635.0,\n",
       "  152: 149578.0,\n",
       "  153: 148279.0,\n",
       "  154: 149847.0,\n",
       "  155: 147656.0,\n",
       "  156: 150156.0,\n",
       "  157: 145176.0,\n",
       "  158: 143845.0,\n",
       "  159: 143145.0,\n",
       "  160: 138666.0,\n",
       "  161: nan},\n",
       " 'Bulgaria': {0: nan,\n",
       "  1: nan,\n",
       "  2: nan,\n",
       "  3: nan,\n",
       "  4: nan,\n",
       "  5: nan,\n",
       "  6: nan,\n",
       "  7: nan,\n",
       "  8: nan,\n",
       "  9: nan,\n",
       "  10: nan,\n",
       "  11: nan,\n",
       "  12: nan,\n",
       "  13: nan,\n",
       "  14: nan,\n",
       "  15: nan,\n",
       "  16: nan,\n",
       "  17: nan,\n",
       "  18: nan,\n",
       "  19: nan,\n",
       "  20: nan,\n",
       "  21: nan,\n",
       "  22: nan,\n",
       "  23: nan,\n",
       "  24: nan,\n",
       "  25: nan,\n",
       "  26: nan,\n",
       "  27: nan,\n",
       "  28: nan,\n",
       "  29: nan,\n",
       "  30: nan,\n",
       "  31: nan,\n",
       "  32: nan,\n",
       "  33: nan,\n",
       "  34: nan,\n",
       "  35: nan,\n",
       "  36: nan,\n",
       "  37: nan,\n",
       "  38: nan,\n",
       "  39: nan,\n",
       "  40: nan,\n",
       "  41: nan,\n",
       "  42: nan,\n",
       "  43: nan,\n",
       "  44: nan,\n",
       "  45: nan,\n",
       "  46: nan,\n",
       "  47: nan,\n",
       "  48: nan,\n",
       "  49: nan,\n",
       "  50: nan,\n",
       "  51: nan,\n",
       "  52: nan,\n",
       "  53: nan,\n",
       "  54: nan,\n",
       "  55: nan,\n",
       "  56: nan,\n",
       "  57: nan,\n",
       "  58: nan,\n",
       "  59: nan,\n",
       "  60: nan,\n",
       "  61: nan,\n",
       "  62: nan,\n",
       "  63: nan,\n",
       "  64: nan,\n",
       "  65: nan,\n",
       "  66: nan,\n",
       "  67: nan,\n",
       "  68: nan,\n",
       "  69: nan,\n",
       "  70: nan,\n",
       "  71: nan,\n",
       "  72: nan,\n",
       "  73: nan,\n",
       "  74: nan,\n",
       "  75: nan,\n",
       "  76: nan,\n",
       "  77: nan,\n",
       "  78: nan,\n",
       "  79: nan,\n",
       "  80: nan,\n",
       "  81: nan,\n",
       "  82: nan,\n",
       "  83: nan,\n",
       "  84: nan,\n",
       "  85: nan,\n",
       "  86: nan,\n",
       "  87: 82390.0,\n",
       "  88: 85122.0,\n",
       "  89: 85835.0,\n",
       "  90: 88297.0,\n",
       "  91: 74276.0,\n",
       "  92: 74682.0,\n",
       "  93: 73994.0,\n",
       "  94: 72496.0,\n",
       "  95: 73478.0,\n",
       "  96: 71668.0,\n",
       "  97: 68781.0,\n",
       "  98: 67226.0,\n",
       "  99: 66453.0,\n",
       "  100: 67867.0,\n",
       "  101: 66617.0,\n",
       "  102: 65314.0,\n",
       "  103: 64099.0,\n",
       "  104: 63511.0,\n",
       "  105: 60985.0,\n",
       "  106: 59575.0,\n",
       "  107: 60420.0,\n",
       "  108: 68840.0,\n",
       "  109: 69594.0,\n",
       "  110: 66921.0,\n",
       "  111: 65643.0,\n",
       "  112: 63540.0,\n",
       "  113: 68056.0,\n",
       "  114: 72489.0,\n",
       "  115: 70316.0,\n",
       "  116: 70247.0,\n",
       "  117: 68869.0,\n",
       "  118: 66394.0,\n",
       "  119: 65450.0,\n",
       "  120: 62118.0,\n",
       "  121: 60218.0,\n",
       "  122: 60211.0,\n",
       "  123: 59951.0,\n",
       "  124: 59243.0,\n",
       "  125: 58016.0,\n",
       "  126: 58728.0,\n",
       "  127: 56925.0,\n",
       "  128: 56939.0,\n",
       "  129: 54700.0,\n",
       "  130: 51152.0,\n",
       "  131: 46411.0,\n",
       "  132: 43175.0,\n",
       "  133: 40914.0,\n",
       "  134: 38904.0,\n",
       "  135: 35165.0,\n",
       "  136: 34952.0,\n",
       "  137: 30821.0,\n",
       "  138: 31715.0,\n",
       "  139: 35233.0,\n",
       "  140: 35897.0,\n",
       "  141: 33055.0,\n",
       "  142: 32002.0,\n",
       "  143: 32689.0,\n",
       "  144: 33860.0,\n",
       "  145: 34597.0,\n",
       "  146: 35870.0,\n",
       "  147: 36527.0,\n",
       "  148: 37726.0,\n",
       "  149: 39644.0,\n",
       "  150: 36677.0,\n",
       "  151: 34313.0,\n",
       "  152: 33459.0,\n",
       "  153: 32534.0,\n",
       "  154: 32850.0,\n",
       "  155: 31881.0,\n",
       "  156: 31609.0,\n",
       "  157: 31168.0,\n",
       "  158: 30053.0,\n",
       "  159: 30023.0,\n",
       "  160: 28714.0,\n",
       "  161: 28605.0}}"
      ]
     },
     "execution_count": 51,
     "metadata": {},
     "output_type": "execute_result"
    }
   ],
   "source": [
    "d5.to_dict()\n"
   ]
  },
  {
   "attachments": {},
   "cell_type": "markdown",
   "metadata": {},
   "source": [
    "would to_list work any better? \n",
    "Can't do: there is no .to_list() method. \n",
    "\n",
    "Though there is a to_json() method\n"
   ]
  },
  {
   "cell_type": "code",
   "execution_count": 52,
   "metadata": {},
   "outputs": [],
   "source": [
    "j1 = d4.to_json()\n"
   ]
  },
  {
   "cell_type": "code",
   "execution_count": 54,
   "metadata": {},
   "outputs": [],
   "source": [
    "d2 = d4.to_dict()"
   ]
  },
  {
   "cell_type": "code",
   "execution_count": 55,
   "metadata": {},
   "outputs": [
    {
     "data": {
      "text/plain": [
       "dict_keys(['year', 'sex', 'Australia', 'Bulgaria'])"
      ]
     },
     "execution_count": 55,
     "metadata": {},
     "output_type": "execute_result"
    }
   ],
   "source": [
    "d2.keys()\n"
   ]
  },
  {
   "attachments": {},
   "cell_type": "markdown",
   "metadata": {},
   "source": [
    "Australia and Bulgaria are separate columns. They should be placed in a dict called countries"
   ]
  },
  {
   "cell_type": "code",
   "execution_count": 60,
   "metadata": {},
   "outputs": [
    {
     "data": {
      "text/plain": [
       "{0: 1860,\n",
       " 1: 1861,\n",
       " 2: 1862,\n",
       " 3: 1863,\n",
       " 4: 1864,\n",
       " 5: 1865,\n",
       " 6: 1866,\n",
       " 7: 1867,\n",
       " 8: 1868,\n",
       " 9: 1869,\n",
       " 10: 1870,\n",
       " 11: 1871,\n",
       " 12: 1872,\n",
       " 13: 1873,\n",
       " 14: 1874,\n",
       " 15: 1875,\n",
       " 16: 1876,\n",
       " 17: 1877,\n",
       " 18: 1878,\n",
       " 19: 1879,\n",
       " 20: 1880,\n",
       " 21: 1881,\n",
       " 22: 1882,\n",
       " 23: 1883,\n",
       " 24: 1884,\n",
       " 25: 1885,\n",
       " 26: 1886,\n",
       " 27: 1887,\n",
       " 28: 1888,\n",
       " 29: 1889,\n",
       " 30: 1890,\n",
       " 31: 1891,\n",
       " 32: 1892,\n",
       " 33: 1893,\n",
       " 34: 1894,\n",
       " 35: 1895,\n",
       " 36: 1896,\n",
       " 37: 1897,\n",
       " 38: 1898,\n",
       " 39: 1899,\n",
       " 40: 1900,\n",
       " 41: 1901,\n",
       " 42: 1902,\n",
       " 43: 1903,\n",
       " 44: 1904,\n",
       " 45: 1905,\n",
       " 46: 1906,\n",
       " 47: 1907,\n",
       " 48: 1908,\n",
       " 49: 1909,\n",
       " 50: 1910,\n",
       " 51: 1911,\n",
       " 52: 1912,\n",
       " 53: 1913,\n",
       " 54: 1914,\n",
       " 55: 1915,\n",
       " 56: 1916,\n",
       " 57: 1917,\n",
       " 58: 1918,\n",
       " 59: 1919,\n",
       " 60: 1920,\n",
       " 61: 1921,\n",
       " 62: 1922,\n",
       " 63: 1923,\n",
       " 64: 1924,\n",
       " 65: 1925,\n",
       " 66: 1926,\n",
       " 67: 1927,\n",
       " 68: 1928,\n",
       " 69: 1929,\n",
       " 70: 1930,\n",
       " 71: 1931,\n",
       " 72: 1932,\n",
       " 73: 1933,\n",
       " 74: 1934,\n",
       " 75: 1935,\n",
       " 76: 1936,\n",
       " 77: 1937,\n",
       " 78: 1938,\n",
       " 79: 1939,\n",
       " 80: 1940,\n",
       " 81: 1941,\n",
       " 82: 1942,\n",
       " 83: 1943,\n",
       " 84: 1944,\n",
       " 85: 1945,\n",
       " 86: 1946,\n",
       " 87: 1947,\n",
       " 88: 1948,\n",
       " 89: 1949,\n",
       " 90: 1950,\n",
       " 91: 1951,\n",
       " 92: 1952,\n",
       " 93: 1953,\n",
       " 94: 1954,\n",
       " 95: 1955,\n",
       " 96: 1956,\n",
       " 97: 1957,\n",
       " 98: 1958,\n",
       " 99: 1959,\n",
       " 100: 1960,\n",
       " 101: 1961,\n",
       " 102: 1962,\n",
       " 103: 1963,\n",
       " 104: 1964,\n",
       " 105: 1965,\n",
       " 106: 1966,\n",
       " 107: 1967,\n",
       " 108: 1968,\n",
       " 109: 1969,\n",
       " 110: 1970,\n",
       " 111: 1971,\n",
       " 112: 1972,\n",
       " 113: 1973,\n",
       " 114: 1974,\n",
       " 115: 1975,\n",
       " 116: 1976,\n",
       " 117: 1977,\n",
       " 118: 1978,\n",
       " 119: 1979,\n",
       " 120: 1980,\n",
       " 121: 1981,\n",
       " 122: 1982,\n",
       " 123: 1983,\n",
       " 124: 1984,\n",
       " 125: 1985,\n",
       " 126: 1986,\n",
       " 127: 1987,\n",
       " 128: 1988,\n",
       " 129: 1989,\n",
       " 130: 1990,\n",
       " 131: 1991,\n",
       " 132: 1992,\n",
       " 133: 1993,\n",
       " 134: 1994,\n",
       " 135: 1995,\n",
       " 136: 1996,\n",
       " 137: 1997,\n",
       " 138: 1998,\n",
       " 139: 1999,\n",
       " 140: 2000,\n",
       " 141: 2001,\n",
       " 142: 2002,\n",
       " 143: 2003,\n",
       " 144: 2004,\n",
       " 145: 2005,\n",
       " 146: 2006,\n",
       " 147: 2007,\n",
       " 148: 2008,\n",
       " 149: 2009,\n",
       " 150: 2010,\n",
       " 151: 2011,\n",
       " 152: 2012,\n",
       " 153: 2013,\n",
       " 154: 2014,\n",
       " 155: 2015,\n",
       " 156: 2016,\n",
       " 157: 2017,\n",
       " 158: 2018,\n",
       " 159: 2019,\n",
       " 160: 2020,\n",
       " 161: 2021}"
      ]
     },
     "execution_count": 60,
     "metadata": {},
     "output_type": "execute_result"
    }
   ],
   "source": [
    "d2.get('year')"
   ]
  },
  {
   "attachments": {},
   "cell_type": "markdown",
   "metadata": {},
   "source": [
    "Let's go over exactly what structure I want to be returned. \n",
    "\n",
    "I think I should simplify again and just allow a single sex to be selected. This means I can go back to using the == operator. \n",
    "\n",
    "I need to make use of the pivot to provide a common series of years for all countries to be visualised. \n",
    "For graph_objects the year needs to be specified as the x trace and, for each country, a y series of the same length needs to be passed. \n",
    "There needs to be a trace for each country. \n",
    "\n",
    "The best outputs to return in would be something like: \n",
    "\n",
    "year, countries\n",
    "\n",
    "where year is a list of length T.\n",
    "And countries is a dict\n",
    "where the keys are the names of the countries, and the values are series of length T, one for each country in countries.\n",
    "\n",
    "\n",
    "Let's now try to model this slightly simplified scenario"
   ]
  },
  {
   "attachments": {},
   "cell_type": "markdown",
   "metadata": {},
   "source": [
    "Let's say\n",
    "\n",
    "- countries are UK, France, UK\n",
    "- sex is male"
   ]
  },
  {
   "cell_type": "code",
   "execution_count": 65,
   "metadata": {},
   "outputs": [],
   "source": [
    "sexSelected = 'male'\n",
    "countriesSelected = ['GBR_NP', \"FRATNP\", 'USA']\n",
    "\n"
   ]
  },
  {
   "attachments": {},
   "cell_type": "markdown",
   "metadata": {},
   "source": [
    "Now to do the filtering"
   ]
  },
  {
   "cell_type": "code",
   "execution_count": 66,
   "metadata": {},
   "outputs": [
    {
     "data": {
      "text/html": [
       "<div>\n",
       "<style scoped>\n",
       "    .dataframe tbody tr th:only-of-type {\n",
       "        vertical-align: middle;\n",
       "    }\n",
       "\n",
       "    .dataframe tbody tr th {\n",
       "        vertical-align: top;\n",
       "    }\n",
       "\n",
       "    .dataframe thead th {\n",
       "        text-align: right;\n",
       "    }\n",
       "</style>\n",
       "<table border=\"1\" class=\"dataframe\">\n",
       "  <thead>\n",
       "    <tr style=\"text-align: right;\">\n",
       "      <th>country</th>\n",
       "      <th>France</th>\n",
       "      <th>U.K.</th>\n",
       "      <th>U.S.A.</th>\n",
       "    </tr>\n",
       "    <tr>\n",
       "      <th>year</th>\n",
       "      <th></th>\n",
       "      <th></th>\n",
       "      <th></th>\n",
       "    </tr>\n",
       "  </thead>\n",
       "  <tbody>\n",
       "    <tr>\n",
       "      <th>1806</th>\n",
       "      <td>471786.0</td>\n",
       "      <td>NaN</td>\n",
       "      <td>NaN</td>\n",
       "    </tr>\n",
       "    <tr>\n",
       "      <th>1807</th>\n",
       "      <td>475716.0</td>\n",
       "      <td>NaN</td>\n",
       "      <td>NaN</td>\n",
       "    </tr>\n",
       "    <tr>\n",
       "      <th>1808</th>\n",
       "      <td>469623.0</td>\n",
       "      <td>NaN</td>\n",
       "      <td>NaN</td>\n",
       "    </tr>\n",
       "    <tr>\n",
       "      <th>1809</th>\n",
       "      <td>481934.0</td>\n",
       "      <td>NaN</td>\n",
       "      <td>NaN</td>\n",
       "    </tr>\n",
       "    <tr>\n",
       "      <th>1810</th>\n",
       "      <td>480912.0</td>\n",
       "      <td>NaN</td>\n",
       "      <td>NaN</td>\n",
       "    </tr>\n",
       "  </tbody>\n",
       "</table>\n",
       "</div>"
      ],
      "text/plain": [
       "country    France  U.K.  U.S.A.\n",
       "year                           \n",
       "1806     471786.0   NaN     NaN\n",
       "1807     475716.0   NaN     NaN\n",
       "1808     469623.0   NaN     NaN\n",
       "1809     481934.0   NaN     NaN\n",
       "1810     480912.0   NaN     NaN"
      ]
     },
     "execution_count": 66,
     "metadata": {},
     "output_type": "execute_result"
    }
   ],
   "source": [
    "d2 = d.loc[\n",
    "    (d['sex'] == sexSelected) & \n",
    "    (d['cntry'].isin(countriesSelected))\n",
    "    , ['country', 'year', 'number_of_births']\n",
    "].pivot(index='year', columns='country', values = 'number_of_births')\n",
    "\n",
    "d2.head()"
   ]
  },
  {
   "cell_type": "code",
   "execution_count": 74,
   "metadata": {},
   "outputs": [],
   "source": [
    "yearSeries = d2.index.to_list()"
   ]
  },
  {
   "cell_type": "code",
   "execution_count": 75,
   "metadata": {},
   "outputs": [],
   "source": [
    "countriesSeriesDict = d2.to_dict()"
   ]
  },
  {
   "attachments": {},
   "cell_type": "markdown",
   "metadata": {},
   "source": [
    "This returns the countries in roughly the right format. The keys are the countries. The values are the numbers; the keys of the values inside the higher level dict are the years. This means there's some redundancy/duplication in the data but it's not too bad. "
   ]
  },
  {
   "cell_type": "code",
   "execution_count": 77,
   "metadata": {},
   "outputs": [
    {
     "data": {
      "text/plain": [
       "dict_values([471786.0, 475716.0, 469623.0, 481934.0, 480912.0, 479790.0, 457012.0, 463161.0, 513204.0, 490458.0, 500385.0, 488145.0, 471624.0, 508922.0, 494820.0, 498478.0, 500867.0, 496022.0, 507668.0, 503168.0, 511411.0, 505366.0, 501796.0, 496495.0, 496914.0, 509220.0, 483249.0, 501059.0, 508718.0, 512368.0, 504416.0, 485721.0, 495820.0, 493172.0, 489424.0, 502716.0, 506450.0, 502927.0, 492703.0, 504878.0, 496009.0, 460910.0, 482473.0, 506057.0, 489802.0, 496606.0, 494856.0, 482316.0, 473834.0, 463440.0, 488371.0, 482336.0, 496492.0, 522116.0, 489646.0, 514735.0, 510311.0, 518581.0, 516160.0, 515345.0, 516136.0, 514369.0, 503502.0, 485883.0, 482775.0, 422879.0, 494481.0, 484751.0, 489622.0, 487281.0, 494318.0, 482632.0, 479527.0, 478611.0, 469181.0, 480561.0, 477995.0, 480318.0, 479339.0, 474380.0, 465523.0, 459184.0, 451386.0, 450368.0, 428152.0, 443227.0, 437800.0, 446957.0, 436663.0, 425889.0, 441621.0, 438283.0, 431365.0, 435485.0, 425139.0, 440012.0, 434410.0, 424343.0, 419836.0, 414908.0, 414266.0, 397950.0, 408409.0, 395960.0, 398478.0, 381304.0, 386651.0, 384341.0, 304592.0, 199213.0, 161439.0, 176461.0, 207534.0, 209185.0, 432036.0, 418451.0, 391789.0, 393181.0, 387875.0, 397029.0, 394611.0, 382238.0, 386197.0, 375432.0, 384644.0, 376911.0, 371322.0, 347967.0, 347964.0, 328346.0, 322984.0, 316929.0, 314220.0, 298980.0, 274892.0, 252585.0, 281487.0, 301991.0, 310767.0, 321638.0, 433825.0, 447510.0, 447898.0, 447510.0, 441795.0, 423797.0, 421546.0, 412599.0, 416078.0, 412159.0, 413546.0, 417634.0, 415221.0, 424405.0, 419775.0, 428877.0, 425919.0, 443844.0, 449511.0, 443390.0, 442128.0, 430641.0, 427623.0, 431346.0, 436599.0, 451978.0, 450667.0, 440190.0, 411439.0, 381804.0, 369439.0, 382337.0, 378281.0, 388604.0, 410547.0, 413480.0, 409205.0, 383659.0, 389310.0, 394112.0, 399199.0, 393231.0, 395439.0, 391649.0, 391312.0, 389239.0, 381744.0, 364589.0, 364277.0, 373409.0, 377003.0, 373157.0, 378075.0, 382132.0, 397352.0, 394297.0, 389981.0, 389349.0, 393477.0, 396346.0, 407846.0, 402297.0, 406784.0, 405902.0, 410140.0, 405206.0, 404774.0, 400149.0, 399284.0, 389181.0, 381310.0, 373716.0, 369121.0, 364924.0, 356389.0, nan])"
      ]
     },
     "execution_count": 77,
     "metadata": {},
     "output_type": "execute_result"
    }
   ],
   "source": [
    "countriesSeriesDict.get('France').values()"
   ]
  },
  {
   "attachments": {},
   "cell_type": "markdown",
   "metadata": {},
   "source": [
    "Let's now confirm this data can be used by graph_objects and traces added programmatically"
   ]
  },
  {
   "cell_type": "code",
   "execution_count": null,
   "metadata": {},
   "outputs": [],
   "source": []
  },
  {
   "cell_type": "code",
   "execution_count": 85,
   "metadata": {},
   "outputs": [
    {
     "data": {
      "application/vnd.plotly.v1+json": {
       "config": {
        "plotlyServerURL": "https://plot.ly"
       },
       "data": [
        {
         "name": "France",
         "type": "scatter",
         "x": [
          1806,
          1807,
          1808,
          1809,
          1810,
          1811,
          1812,
          1813,
          1814,
          1815,
          1816,
          1817,
          1818,
          1819,
          1820,
          1821,
          1822,
          1823,
          1824,
          1825,
          1826,
          1827,
          1828,
          1829,
          1830,
          1831,
          1832,
          1833,
          1834,
          1835,
          1836,
          1837,
          1838,
          1839,
          1840,
          1841,
          1842,
          1843,
          1844,
          1845,
          1846,
          1847,
          1848,
          1849,
          1850,
          1851,
          1852,
          1853,
          1854,
          1855,
          1856,
          1857,
          1858,
          1859,
          1860,
          1861,
          1862,
          1863,
          1864,
          1865,
          1866,
          1867,
          1868,
          1869,
          1870,
          1871,
          1872,
          1873,
          1874,
          1875,
          1876,
          1877,
          1878,
          1879,
          1880,
          1881,
          1882,
          1883,
          1884,
          1885,
          1886,
          1887,
          1888,
          1889,
          1890,
          1891,
          1892,
          1893,
          1894,
          1895,
          1896,
          1897,
          1898,
          1899,
          1900,
          1901,
          1902,
          1903,
          1904,
          1905,
          1906,
          1907,
          1908,
          1909,
          1910,
          1911,
          1912,
          1913,
          1914,
          1915,
          1916,
          1917,
          1918,
          1919,
          1920,
          1921,
          1922,
          1923,
          1924,
          1925,
          1926,
          1927,
          1928,
          1929,
          1930,
          1931,
          1932,
          1933,
          1934,
          1935,
          1936,
          1937,
          1938,
          1939,
          1940,
          1941,
          1942,
          1943,
          1944,
          1945,
          1946,
          1947,
          1948,
          1949,
          1950,
          1951,
          1952,
          1953,
          1954,
          1955,
          1956,
          1957,
          1958,
          1959,
          1960,
          1961,
          1962,
          1963,
          1964,
          1965,
          1966,
          1967,
          1968,
          1969,
          1970,
          1971,
          1972,
          1973,
          1974,
          1975,
          1976,
          1977,
          1978,
          1979,
          1980,
          1981,
          1982,
          1983,
          1984,
          1985,
          1986,
          1987,
          1988,
          1989,
          1990,
          1991,
          1992,
          1993,
          1994,
          1995,
          1996,
          1997,
          1998,
          1999,
          2000,
          2001,
          2002,
          2003,
          2004,
          2005,
          2006,
          2007,
          2008,
          2009,
          2010,
          2011,
          2012,
          2013,
          2014,
          2015,
          2016,
          2017,
          2018,
          2019,
          2020,
          2021
         ],
         "y": [
          471786,
          475716,
          469623,
          481934,
          480912,
          479790,
          457012,
          463161,
          513204,
          490458,
          500385,
          488145,
          471624,
          508922,
          494820,
          498478,
          500867,
          496022,
          507668,
          503168,
          511411,
          505366,
          501796,
          496495,
          496914,
          509220,
          483249,
          501059,
          508718,
          512368,
          504416,
          485721,
          495820,
          493172,
          489424,
          502716,
          506450,
          502927,
          492703,
          504878,
          496009,
          460910,
          482473,
          506057,
          489802,
          496606,
          494856,
          482316,
          473834,
          463440,
          488371,
          482336,
          496492,
          522116,
          489646,
          514735,
          510311,
          518581,
          516160,
          515345,
          516136,
          514369,
          503502,
          485883,
          482775,
          422879,
          494481,
          484751,
          489622,
          487281,
          494318,
          482632,
          479527,
          478611,
          469181,
          480561,
          477995,
          480318,
          479339,
          474380,
          465523,
          459184,
          451386,
          450368,
          428152,
          443227,
          437800,
          446957,
          436663,
          425889,
          441621,
          438283,
          431365,
          435485,
          425139,
          440012,
          434410,
          424343,
          419836,
          414908,
          414266,
          397950,
          408409,
          395960,
          398478,
          381304,
          386651,
          384341,
          304592,
          199213,
          161439,
          176461,
          207534,
          209185,
          432036,
          418451,
          391789,
          393181,
          387875,
          397029,
          394611,
          382238,
          386197,
          375432,
          384644,
          376911,
          371322,
          347967,
          347964,
          328346,
          322984,
          316929,
          314220,
          298980,
          274892,
          252585,
          281487,
          301991,
          310767,
          321638,
          433825,
          447510,
          447898,
          447510,
          441795,
          423797,
          421546,
          412599,
          416078,
          412159,
          413546,
          417634,
          415221,
          424405,
          419775,
          428877,
          425919,
          443844,
          449511,
          443390,
          442128,
          430641,
          427623,
          431346,
          436599,
          451978,
          450667,
          440190,
          411439,
          381804,
          369439,
          382337,
          378281,
          388604,
          410547,
          413480,
          409205,
          383659,
          389310,
          394112,
          399199,
          393231,
          395439,
          391649,
          391312,
          389239,
          381744,
          364589,
          364277,
          373409,
          377003,
          373157,
          378075,
          382132,
          397352,
          394297,
          389981,
          389349,
          393477,
          396346,
          407846,
          402297,
          406784,
          405902,
          410140,
          405206,
          404774,
          400149,
          399284,
          389181,
          381310,
          373716,
          369121,
          364924,
          356389,
          null
         ]
        },
        {
         "name": "U.K.",
         "type": "scatter",
         "x": [
          1806,
          1807,
          1808,
          1809,
          1810,
          1811,
          1812,
          1813,
          1814,
          1815,
          1816,
          1817,
          1818,
          1819,
          1820,
          1821,
          1822,
          1823,
          1824,
          1825,
          1826,
          1827,
          1828,
          1829,
          1830,
          1831,
          1832,
          1833,
          1834,
          1835,
          1836,
          1837,
          1838,
          1839,
          1840,
          1841,
          1842,
          1843,
          1844,
          1845,
          1846,
          1847,
          1848,
          1849,
          1850,
          1851,
          1852,
          1853,
          1854,
          1855,
          1856,
          1857,
          1858,
          1859,
          1860,
          1861,
          1862,
          1863,
          1864,
          1865,
          1866,
          1867,
          1868,
          1869,
          1870,
          1871,
          1872,
          1873,
          1874,
          1875,
          1876,
          1877,
          1878,
          1879,
          1880,
          1881,
          1882,
          1883,
          1884,
          1885,
          1886,
          1887,
          1888,
          1889,
          1890,
          1891,
          1892,
          1893,
          1894,
          1895,
          1896,
          1897,
          1898,
          1899,
          1900,
          1901,
          1902,
          1903,
          1904,
          1905,
          1906,
          1907,
          1908,
          1909,
          1910,
          1911,
          1912,
          1913,
          1914,
          1915,
          1916,
          1917,
          1918,
          1919,
          1920,
          1921,
          1922,
          1923,
          1924,
          1925,
          1926,
          1927,
          1928,
          1929,
          1930,
          1931,
          1932,
          1933,
          1934,
          1935,
          1936,
          1937,
          1938,
          1939,
          1940,
          1941,
          1942,
          1943,
          1944,
          1945,
          1946,
          1947,
          1948,
          1949,
          1950,
          1951,
          1952,
          1953,
          1954,
          1955,
          1956,
          1957,
          1958,
          1959,
          1960,
          1961,
          1962,
          1963,
          1964,
          1965,
          1966,
          1967,
          1968,
          1969,
          1970,
          1971,
          1972,
          1973,
          1974,
          1975,
          1976,
          1977,
          1978,
          1979,
          1980,
          1981,
          1982,
          1983,
          1984,
          1985,
          1986,
          1987,
          1988,
          1989,
          1990,
          1991,
          1992,
          1993,
          1994,
          1995,
          1996,
          1997,
          1998,
          1999,
          2000,
          2001,
          2002,
          2003,
          2004,
          2005,
          2006,
          2007,
          2008,
          2009,
          2010,
          2011,
          2012,
          2013,
          2014,
          2015,
          2016,
          2017,
          2018,
          2019,
          2020,
          2021
         ],
         "y": [
          null,
          null,
          null,
          null,
          null,
          null,
          null,
          null,
          null,
          null,
          null,
          null,
          null,
          null,
          null,
          null,
          null,
          null,
          null,
          null,
          null,
          null,
          null,
          null,
          null,
          null,
          null,
          null,
          null,
          null,
          null,
          null,
          null,
          null,
          null,
          null,
          null,
          null,
          null,
          null,
          null,
          null,
          null,
          null,
          null,
          null,
          null,
          null,
          null,
          null,
          null,
          null,
          null,
          null,
          null,
          null,
          null,
          null,
          null,
          null,
          null,
          null,
          null,
          null,
          null,
          null,
          null,
          null,
          null,
          null,
          null,
          null,
          null,
          null,
          null,
          null,
          null,
          null,
          null,
          null,
          null,
          null,
          null,
          null,
          null,
          null,
          null,
          null,
          null,
          null,
          null,
          null,
          null,
          null,
          null,
          null,
          null,
          null,
          null,
          null,
          null,
          null,
          null,
          null,
          null,
          null,
          null,
          null,
          null,
          null,
          null,
          null,
          null,
          null,
          null,
          null,
          473383,
          459960,
          442989,
          430778,
          421155,
          396744,
          400207,
          389459,
          392627,
          383699,
          373860,
          354144,
          365453,
          365297,
          369206,
          371661,
          377030,
          373183,
          360029,
          357217,
          397417,
          417608,
          452997,
          409791,
          491631,
          527611,
          466233,
          440274,
          421440,
          409942,
          406992,
          413929,
          408686,
          406284,
          423932,
          438138,
          447662,
          452692,
          472697,
          486136,
          502386,
          508468,
          522383,
          512929,
          504367,
          494696,
          487165,
          473312,
          464948,
          464194,
          429821,
          402431,
          379270,
          359243,
          347356,
          338104,
          353315,
          378144,
          386035,
          374841,
          368995,
          370820,
          373379,
          385031,
          387227,
          397790,
          403145,
          398192,
          408747,
          406253,
          400228,
          390724,
          385081,
          375133,
          376395,
          372418,
          367457,
          359444,
          347941,
          342709,
          343155,
          356578,
          367586,
          370024,
          382912,
          397574,
          405861,
          405099,
          413755,
          413910,
          417058,
          399599,
          400023,
          398983,
          397707,
          387184,
          375529,
          366460,
          349214,
          null
         ]
        },
        {
         "name": "U.S.A.",
         "type": "scatter",
         "x": [
          1806,
          1807,
          1808,
          1809,
          1810,
          1811,
          1812,
          1813,
          1814,
          1815,
          1816,
          1817,
          1818,
          1819,
          1820,
          1821,
          1822,
          1823,
          1824,
          1825,
          1826,
          1827,
          1828,
          1829,
          1830,
          1831,
          1832,
          1833,
          1834,
          1835,
          1836,
          1837,
          1838,
          1839,
          1840,
          1841,
          1842,
          1843,
          1844,
          1845,
          1846,
          1847,
          1848,
          1849,
          1850,
          1851,
          1852,
          1853,
          1854,
          1855,
          1856,
          1857,
          1858,
          1859,
          1860,
          1861,
          1862,
          1863,
          1864,
          1865,
          1866,
          1867,
          1868,
          1869,
          1870,
          1871,
          1872,
          1873,
          1874,
          1875,
          1876,
          1877,
          1878,
          1879,
          1880,
          1881,
          1882,
          1883,
          1884,
          1885,
          1886,
          1887,
          1888,
          1889,
          1890,
          1891,
          1892,
          1893,
          1894,
          1895,
          1896,
          1897,
          1898,
          1899,
          1900,
          1901,
          1902,
          1903,
          1904,
          1905,
          1906,
          1907,
          1908,
          1909,
          1910,
          1911,
          1912,
          1913,
          1914,
          1915,
          1916,
          1917,
          1918,
          1919,
          1920,
          1921,
          1922,
          1923,
          1924,
          1925,
          1926,
          1927,
          1928,
          1929,
          1930,
          1931,
          1932,
          1933,
          1934,
          1935,
          1936,
          1937,
          1938,
          1939,
          1940,
          1941,
          1942,
          1943,
          1944,
          1945,
          1946,
          1947,
          1948,
          1949,
          1950,
          1951,
          1952,
          1953,
          1954,
          1955,
          1956,
          1957,
          1958,
          1959,
          1960,
          1961,
          1962,
          1963,
          1964,
          1965,
          1966,
          1967,
          1968,
          1969,
          1970,
          1971,
          1972,
          1973,
          1974,
          1975,
          1976,
          1977,
          1978,
          1979,
          1980,
          1981,
          1982,
          1983,
          1984,
          1985,
          1986,
          1987,
          1988,
          1989,
          1990,
          1991,
          1992,
          1993,
          1994,
          1995,
          1996,
          1997,
          1998,
          1999,
          2000,
          2001,
          2002,
          2003,
          2004,
          2005,
          2006,
          2007,
          2008,
          2009,
          2010,
          2011,
          2012,
          2013,
          2014,
          2015,
          2016,
          2017,
          2018,
          2019,
          2020,
          2021
         ],
         "y": [
          null,
          null,
          null,
          null,
          null,
          null,
          null,
          null,
          null,
          null,
          null,
          null,
          null,
          null,
          null,
          null,
          null,
          null,
          null,
          null,
          null,
          null,
          null,
          null,
          null,
          null,
          null,
          null,
          null,
          null,
          null,
          null,
          null,
          null,
          null,
          null,
          null,
          null,
          null,
          null,
          null,
          null,
          null,
          null,
          null,
          null,
          null,
          null,
          null,
          null,
          null,
          null,
          null,
          null,
          null,
          null,
          null,
          null,
          null,
          null,
          null,
          null,
          null,
          null,
          null,
          null,
          null,
          null,
          null,
          null,
          null,
          null,
          null,
          null,
          null,
          null,
          null,
          null,
          null,
          null,
          null,
          null,
          null,
          null,
          null,
          null,
          null,
          null,
          null,
          null,
          null,
          null,
          null,
          null,
          null,
          null,
          null,
          null,
          null,
          null,
          null,
          null,
          null,
          null,
          null,
          null,
          null,
          null,
          null,
          null,
          null,
          null,
          null,
          null,
          null,
          null,
          null,
          null,
          null,
          null,
          null,
          null,
          null,
          null,
          null,
          null,
          null,
          1184820,
          1229928,
          1219000,
          1207000,
          1238000,
          1280000,
          1265000,
          1313000,
          1387000,
          1537000,
          1593000,
          1509000,
          1467000,
          1754000,
          1960000,
          1866000,
          1872000,
          1863000,
          1960000,
          2005000,
          2034000,
          2090000,
          2103000,
          2162000,
          2207000,
          2179000,
          2207788,
          2179708,
          2186274,
          2132466,
          2101632,
          2060162,
          1927054,
          1845862,
          1803388,
          1796326,
          1846572,
          1915378,
          1822910,
          1669927,
          1608326,
          1622114,
          1613135,
          1624436,
          1705916,
          1709394,
          1791267,
          1852616,
          1860272,
          1885676,
          1865553,
          1879490,
          1927983,
          1924868,
          1951153,
          2002424,
          2069490,
          2129495,
          2101518,
          2082097,
          2048861,
          2022589,
          1996355,
          1990480,
          1985596,
          2016205,
          2026854,
          2076969,
          2057922,
          2057979,
          2093535,
          2104661,
          2118982,
          2184237,
          2208071,
          2173389,
          2113856,
          2046935,
          2024052,
          2021434,
          2012954,
          2040701,
          2036161,
          2018183,
          1972885,
          1938179,
          1917446,
          1848092,
          1873416
         ]
        }
       ],
       "layout": {
        "template": {
         "data": {
          "bar": [
           {
            "error_x": {
             "color": "#2a3f5f"
            },
            "error_y": {
             "color": "#2a3f5f"
            },
            "marker": {
             "line": {
              "color": "#E5ECF6",
              "width": 0.5
             },
             "pattern": {
              "fillmode": "overlay",
              "size": 10,
              "solidity": 0.2
             }
            },
            "type": "bar"
           }
          ],
          "barpolar": [
           {
            "marker": {
             "line": {
              "color": "#E5ECF6",
              "width": 0.5
             },
             "pattern": {
              "fillmode": "overlay",
              "size": 10,
              "solidity": 0.2
             }
            },
            "type": "barpolar"
           }
          ],
          "carpet": [
           {
            "aaxis": {
             "endlinecolor": "#2a3f5f",
             "gridcolor": "white",
             "linecolor": "white",
             "minorgridcolor": "white",
             "startlinecolor": "#2a3f5f"
            },
            "baxis": {
             "endlinecolor": "#2a3f5f",
             "gridcolor": "white",
             "linecolor": "white",
             "minorgridcolor": "white",
             "startlinecolor": "#2a3f5f"
            },
            "type": "carpet"
           }
          ],
          "choropleth": [
           {
            "colorbar": {
             "outlinewidth": 0,
             "ticks": ""
            },
            "type": "choropleth"
           }
          ],
          "contour": [
           {
            "colorbar": {
             "outlinewidth": 0,
             "ticks": ""
            },
            "colorscale": [
             [
              0,
              "#0d0887"
             ],
             [
              0.1111111111111111,
              "#46039f"
             ],
             [
              0.2222222222222222,
              "#7201a8"
             ],
             [
              0.3333333333333333,
              "#9c179e"
             ],
             [
              0.4444444444444444,
              "#bd3786"
             ],
             [
              0.5555555555555556,
              "#d8576b"
             ],
             [
              0.6666666666666666,
              "#ed7953"
             ],
             [
              0.7777777777777778,
              "#fb9f3a"
             ],
             [
              0.8888888888888888,
              "#fdca26"
             ],
             [
              1,
              "#f0f921"
             ]
            ],
            "type": "contour"
           }
          ],
          "contourcarpet": [
           {
            "colorbar": {
             "outlinewidth": 0,
             "ticks": ""
            },
            "type": "contourcarpet"
           }
          ],
          "heatmap": [
           {
            "colorbar": {
             "outlinewidth": 0,
             "ticks": ""
            },
            "colorscale": [
             [
              0,
              "#0d0887"
             ],
             [
              0.1111111111111111,
              "#46039f"
             ],
             [
              0.2222222222222222,
              "#7201a8"
             ],
             [
              0.3333333333333333,
              "#9c179e"
             ],
             [
              0.4444444444444444,
              "#bd3786"
             ],
             [
              0.5555555555555556,
              "#d8576b"
             ],
             [
              0.6666666666666666,
              "#ed7953"
             ],
             [
              0.7777777777777778,
              "#fb9f3a"
             ],
             [
              0.8888888888888888,
              "#fdca26"
             ],
             [
              1,
              "#f0f921"
             ]
            ],
            "type": "heatmap"
           }
          ],
          "heatmapgl": [
           {
            "colorbar": {
             "outlinewidth": 0,
             "ticks": ""
            },
            "colorscale": [
             [
              0,
              "#0d0887"
             ],
             [
              0.1111111111111111,
              "#46039f"
             ],
             [
              0.2222222222222222,
              "#7201a8"
             ],
             [
              0.3333333333333333,
              "#9c179e"
             ],
             [
              0.4444444444444444,
              "#bd3786"
             ],
             [
              0.5555555555555556,
              "#d8576b"
             ],
             [
              0.6666666666666666,
              "#ed7953"
             ],
             [
              0.7777777777777778,
              "#fb9f3a"
             ],
             [
              0.8888888888888888,
              "#fdca26"
             ],
             [
              1,
              "#f0f921"
             ]
            ],
            "type": "heatmapgl"
           }
          ],
          "histogram": [
           {
            "marker": {
             "pattern": {
              "fillmode": "overlay",
              "size": 10,
              "solidity": 0.2
             }
            },
            "type": "histogram"
           }
          ],
          "histogram2d": [
           {
            "colorbar": {
             "outlinewidth": 0,
             "ticks": ""
            },
            "colorscale": [
             [
              0,
              "#0d0887"
             ],
             [
              0.1111111111111111,
              "#46039f"
             ],
             [
              0.2222222222222222,
              "#7201a8"
             ],
             [
              0.3333333333333333,
              "#9c179e"
             ],
             [
              0.4444444444444444,
              "#bd3786"
             ],
             [
              0.5555555555555556,
              "#d8576b"
             ],
             [
              0.6666666666666666,
              "#ed7953"
             ],
             [
              0.7777777777777778,
              "#fb9f3a"
             ],
             [
              0.8888888888888888,
              "#fdca26"
             ],
             [
              1,
              "#f0f921"
             ]
            ],
            "type": "histogram2d"
           }
          ],
          "histogram2dcontour": [
           {
            "colorbar": {
             "outlinewidth": 0,
             "ticks": ""
            },
            "colorscale": [
             [
              0,
              "#0d0887"
             ],
             [
              0.1111111111111111,
              "#46039f"
             ],
             [
              0.2222222222222222,
              "#7201a8"
             ],
             [
              0.3333333333333333,
              "#9c179e"
             ],
             [
              0.4444444444444444,
              "#bd3786"
             ],
             [
              0.5555555555555556,
              "#d8576b"
             ],
             [
              0.6666666666666666,
              "#ed7953"
             ],
             [
              0.7777777777777778,
              "#fb9f3a"
             ],
             [
              0.8888888888888888,
              "#fdca26"
             ],
             [
              1,
              "#f0f921"
             ]
            ],
            "type": "histogram2dcontour"
           }
          ],
          "mesh3d": [
           {
            "colorbar": {
             "outlinewidth": 0,
             "ticks": ""
            },
            "type": "mesh3d"
           }
          ],
          "parcoords": [
           {
            "line": {
             "colorbar": {
              "outlinewidth": 0,
              "ticks": ""
             }
            },
            "type": "parcoords"
           }
          ],
          "pie": [
           {
            "automargin": true,
            "type": "pie"
           }
          ],
          "scatter": [
           {
            "fillpattern": {
             "fillmode": "overlay",
             "size": 10,
             "solidity": 0.2
            },
            "type": "scatter"
           }
          ],
          "scatter3d": [
           {
            "line": {
             "colorbar": {
              "outlinewidth": 0,
              "ticks": ""
             }
            },
            "marker": {
             "colorbar": {
              "outlinewidth": 0,
              "ticks": ""
             }
            },
            "type": "scatter3d"
           }
          ],
          "scattercarpet": [
           {
            "marker": {
             "colorbar": {
              "outlinewidth": 0,
              "ticks": ""
             }
            },
            "type": "scattercarpet"
           }
          ],
          "scattergeo": [
           {
            "marker": {
             "colorbar": {
              "outlinewidth": 0,
              "ticks": ""
             }
            },
            "type": "scattergeo"
           }
          ],
          "scattergl": [
           {
            "marker": {
             "colorbar": {
              "outlinewidth": 0,
              "ticks": ""
             }
            },
            "type": "scattergl"
           }
          ],
          "scattermapbox": [
           {
            "marker": {
             "colorbar": {
              "outlinewidth": 0,
              "ticks": ""
             }
            },
            "type": "scattermapbox"
           }
          ],
          "scatterpolar": [
           {
            "marker": {
             "colorbar": {
              "outlinewidth": 0,
              "ticks": ""
             }
            },
            "type": "scatterpolar"
           }
          ],
          "scatterpolargl": [
           {
            "marker": {
             "colorbar": {
              "outlinewidth": 0,
              "ticks": ""
             }
            },
            "type": "scatterpolargl"
           }
          ],
          "scatterternary": [
           {
            "marker": {
             "colorbar": {
              "outlinewidth": 0,
              "ticks": ""
             }
            },
            "type": "scatterternary"
           }
          ],
          "surface": [
           {
            "colorbar": {
             "outlinewidth": 0,
             "ticks": ""
            },
            "colorscale": [
             [
              0,
              "#0d0887"
             ],
             [
              0.1111111111111111,
              "#46039f"
             ],
             [
              0.2222222222222222,
              "#7201a8"
             ],
             [
              0.3333333333333333,
              "#9c179e"
             ],
             [
              0.4444444444444444,
              "#bd3786"
             ],
             [
              0.5555555555555556,
              "#d8576b"
             ],
             [
              0.6666666666666666,
              "#ed7953"
             ],
             [
              0.7777777777777778,
              "#fb9f3a"
             ],
             [
              0.8888888888888888,
              "#fdca26"
             ],
             [
              1,
              "#f0f921"
             ]
            ],
            "type": "surface"
           }
          ],
          "table": [
           {
            "cells": {
             "fill": {
              "color": "#EBF0F8"
             },
             "line": {
              "color": "white"
             }
            },
            "header": {
             "fill": {
              "color": "#C8D4E3"
             },
             "line": {
              "color": "white"
             }
            },
            "type": "table"
           }
          ]
         },
         "layout": {
          "annotationdefaults": {
           "arrowcolor": "#2a3f5f",
           "arrowhead": 0,
           "arrowwidth": 1
          },
          "autotypenumbers": "strict",
          "coloraxis": {
           "colorbar": {
            "outlinewidth": 0,
            "ticks": ""
           }
          },
          "colorscale": {
           "diverging": [
            [
             0,
             "#8e0152"
            ],
            [
             0.1,
             "#c51b7d"
            ],
            [
             0.2,
             "#de77ae"
            ],
            [
             0.3,
             "#f1b6da"
            ],
            [
             0.4,
             "#fde0ef"
            ],
            [
             0.5,
             "#f7f7f7"
            ],
            [
             0.6,
             "#e6f5d0"
            ],
            [
             0.7,
             "#b8e186"
            ],
            [
             0.8,
             "#7fbc41"
            ],
            [
             0.9,
             "#4d9221"
            ],
            [
             1,
             "#276419"
            ]
           ],
           "sequential": [
            [
             0,
             "#0d0887"
            ],
            [
             0.1111111111111111,
             "#46039f"
            ],
            [
             0.2222222222222222,
             "#7201a8"
            ],
            [
             0.3333333333333333,
             "#9c179e"
            ],
            [
             0.4444444444444444,
             "#bd3786"
            ],
            [
             0.5555555555555556,
             "#d8576b"
            ],
            [
             0.6666666666666666,
             "#ed7953"
            ],
            [
             0.7777777777777778,
             "#fb9f3a"
            ],
            [
             0.8888888888888888,
             "#fdca26"
            ],
            [
             1,
             "#f0f921"
            ]
           ],
           "sequentialminus": [
            [
             0,
             "#0d0887"
            ],
            [
             0.1111111111111111,
             "#46039f"
            ],
            [
             0.2222222222222222,
             "#7201a8"
            ],
            [
             0.3333333333333333,
             "#9c179e"
            ],
            [
             0.4444444444444444,
             "#bd3786"
            ],
            [
             0.5555555555555556,
             "#d8576b"
            ],
            [
             0.6666666666666666,
             "#ed7953"
            ],
            [
             0.7777777777777778,
             "#fb9f3a"
            ],
            [
             0.8888888888888888,
             "#fdca26"
            ],
            [
             1,
             "#f0f921"
            ]
           ]
          },
          "colorway": [
           "#636efa",
           "#EF553B",
           "#00cc96",
           "#ab63fa",
           "#FFA15A",
           "#19d3f3",
           "#FF6692",
           "#B6E880",
           "#FF97FF",
           "#FECB52"
          ],
          "font": {
           "color": "#2a3f5f"
          },
          "geo": {
           "bgcolor": "white",
           "lakecolor": "white",
           "landcolor": "#E5ECF6",
           "showlakes": true,
           "showland": true,
           "subunitcolor": "white"
          },
          "hoverlabel": {
           "align": "left"
          },
          "hovermode": "closest",
          "mapbox": {
           "style": "light"
          },
          "paper_bgcolor": "white",
          "plot_bgcolor": "#E5ECF6",
          "polar": {
           "angularaxis": {
            "gridcolor": "white",
            "linecolor": "white",
            "ticks": ""
           },
           "bgcolor": "#E5ECF6",
           "radialaxis": {
            "gridcolor": "white",
            "linecolor": "white",
            "ticks": ""
           }
          },
          "scene": {
           "xaxis": {
            "backgroundcolor": "#E5ECF6",
            "gridcolor": "white",
            "gridwidth": 2,
            "linecolor": "white",
            "showbackground": true,
            "ticks": "",
            "zerolinecolor": "white"
           },
           "yaxis": {
            "backgroundcolor": "#E5ECF6",
            "gridcolor": "white",
            "gridwidth": 2,
            "linecolor": "white",
            "showbackground": true,
            "ticks": "",
            "zerolinecolor": "white"
           },
           "zaxis": {
            "backgroundcolor": "#E5ECF6",
            "gridcolor": "white",
            "gridwidth": 2,
            "linecolor": "white",
            "showbackground": true,
            "ticks": "",
            "zerolinecolor": "white"
           }
          },
          "shapedefaults": {
           "line": {
            "color": "#2a3f5f"
           }
          },
          "ternary": {
           "aaxis": {
            "gridcolor": "white",
            "linecolor": "white",
            "ticks": ""
           },
           "baxis": {
            "gridcolor": "white",
            "linecolor": "white",
            "ticks": ""
           },
           "bgcolor": "#E5ECF6",
           "caxis": {
            "gridcolor": "white",
            "linecolor": "white",
            "ticks": ""
           }
          },
          "title": {
           "x": 0.05
          },
          "xaxis": {
           "automargin": true,
           "gridcolor": "white",
           "linecolor": "white",
           "ticks": "",
           "title": {
            "standoff": 15
           },
           "zerolinecolor": "white",
           "zerolinewidth": 2
          },
          "yaxis": {
           "automargin": true,
           "gridcolor": "white",
           "linecolor": "white",
           "ticks": "",
           "title": {
            "standoff": 15
           },
           "zerolinecolor": "white",
           "zerolinewidth": 2
          }
         }
        },
        "title": {
         "text": "Number of births"
        },
        "xaxis": {
         "title": {
          "text": "Year"
         }
        },
        "yaxis": {
         "title": {
          "text": "Number of births"
         }
        }
       }
      }
     },
     "metadata": {},
     "output_type": "display_data"
    }
   ],
   "source": [
    "\n",
    "traces = [] \n",
    "for key in countriesSeriesDict.keys():\n",
    "    trace = go.Scatter(x = yearSeries, y = list(countriesSeriesDict[key].values()),\n",
    "                       name = key)\n",
    "    traces.append(trace)\n",
    "\n",
    "layout = go.Layout(title = \"Number of births\", xaxis_title = \"Year\", yaxis_title = \"Number of births\")\n",
    "\n",
    "fig = go.Figure(data =traces, layout = layout)\n",
    "\n",
    "fig.show()"
   ]
  },
  {
   "attachments": {},
   "cell_type": "markdown",
   "metadata": {},
   "source": [
    "for reasons unknown I'm struggling to do the same with the deaths data, so let's try that too"
   ]
  },
  {
   "cell_type": "code",
   "execution_count": 8,
   "metadata": {},
   "outputs": [
    {
     "data": {
      "text/html": [
       "<div>\n",
       "<style scoped>\n",
       "    .dataframe tbody tr th:only-of-type {\n",
       "        vertical-align: middle;\n",
       "    }\n",
       "\n",
       "    .dataframe tbody tr th {\n",
       "        vertical-align: top;\n",
       "    }\n",
       "\n",
       "    .dataframe thead th {\n",
       "        text-align: right;\n",
       "    }\n",
       "</style>\n",
       "<table border=\"1\" class=\"dataframe\">\n",
       "  <thead>\n",
       "    <tr style=\"text-align: right;\">\n",
       "      <th>country</th>\n",
       "      <th>Australia</th>\n",
       "      <th>France</th>\n",
       "    </tr>\n",
       "    <tr>\n",
       "      <th>year</th>\n",
       "      <th></th>\n",
       "      <th></th>\n",
       "    </tr>\n",
       "  </thead>\n",
       "  <tbody>\n",
       "    <tr>\n",
       "      <th>1816</th>\n",
       "      <td>NaN</td>\n",
       "      <td>6519.810721</td>\n",
       "    </tr>\n",
       "    <tr>\n",
       "      <th>1817</th>\n",
       "      <td>NaN</td>\n",
       "      <td>6764.387297</td>\n",
       "    </tr>\n",
       "    <tr>\n",
       "      <th>1818</th>\n",
       "      <td>NaN</td>\n",
       "      <td>6806.730811</td>\n",
       "    </tr>\n",
       "    <tr>\n",
       "      <th>1819</th>\n",
       "      <td>NaN</td>\n",
       "      <td>7081.045495</td>\n",
       "    </tr>\n",
       "    <tr>\n",
       "      <th>1820</th>\n",
       "      <td>NaN</td>\n",
       "      <td>6930.629820</td>\n",
       "    </tr>\n",
       "  </tbody>\n",
       "</table>\n",
       "</div>"
      ],
      "text/plain": [
       "country  Australia       France\n",
       "year                           \n",
       "1816           NaN  6519.810721\n",
       "1817           NaN  6764.387297\n",
       "1818           NaN  6806.730811\n",
       "1819           NaN  7081.045495\n",
       "1820           NaN  6930.629820"
      ]
     },
     "execution_count": 8,
     "metadata": {},
     "output_type": "execute_result"
    }
   ],
   "source": [
    "d = pd.read_csv(\"../assets/data/deaths.csv\")\n",
    "\n",
    "placeOptions = ['AUS', 'FRATNP']\n",
    "\n",
    "sexOption = 'total'\n",
    "\n",
    "d2 = d.loc[\n",
    "    (d['sex'] == sexOption) & \n",
    "    (d['cntry'].isin(placeOptions))\n",
    "    , ['country', 'year', 'number_of_deaths']\n",
    "]\n",
    "\n",
    "d3 = d2.groupby(['country', 'year']).agg('mean').reset_index()\n",
    "\n",
    "d4 = d3.pivot(index='year', columns='country', values = 'number_of_deaths')\n",
    "\n",
    "d4.head()\n"
   ]
  }
 ],
 "metadata": {
  "kernelspec": {
   "display_name": "Python 3",
   "language": "python",
   "name": "python3"
  },
  "language_info": {
   "codemirror_mode": {
    "name": "ipython",
    "version": 3
   },
   "file_extension": ".py",
   "mimetype": "text/x-python",
   "name": "python",
   "nbconvert_exporter": "python",
   "pygments_lexer": "ipython3",
   "version": "3.10.9"
  },
  "orig_nbformat": 4
 },
 "nbformat": 4,
 "nbformat_minor": 2
}
