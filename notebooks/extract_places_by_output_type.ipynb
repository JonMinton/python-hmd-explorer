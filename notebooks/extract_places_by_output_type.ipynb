{
 "cells": [
  {
   "attachments": {},
   "cell_type": "markdown",
   "metadata": {},
   "source": [
    "The aim of this script is to confirm how to write a pre-compiled lookup of label-value pairs by outcome type and save it as a json file"
   ]
  },
  {
   "cell_type": "code",
   "execution_count": 5,
   "metadata": {},
   "outputs": [],
   "source": [
    "import json\n",
    "import pandas as pd"
   ]
  },
  {
   "cell_type": "code",
   "execution_count": 6,
   "metadata": {},
   "outputs": [],
   "source": [
    "locs = [\n",
    "    {\"type\" : \"births\", \"loc\" : \"../assets/data/births.csv\"},\n",
    "    {\"type\" : \"deaths\", \"loc\" : \"../assets/data/deaths.csv\"},\n",
    "    {\"type\" : \"exposures\", \"loc\" : \"../assets/data/exposures.csv\"},\n",
    "    {\"type\" : \"lifetables\", \"loc\" : \"../assets/data/lifetables.csv\"},\n",
    "    {\"type\" : \"Mx\", \"loc\" : \"../assets/data/Mx.csv\"},\n",
    "    {\"type\" : \"population\", \"loc\" : \"../assets/data/population.csv\"}\n",
    "]\n",
    "\n",
    "def makeKv(loc):\n",
    "    return [\n",
    "    {\"label\" : x['country'], \"value\" : x['cntry']}\n",
    "        for i, x in \n",
    "            pd.read_csv(loc)[\n",
    "                ['country', 'cntry']\n",
    "            ].drop_duplicates(\n",
    "            ).iterrows()          \n",
    "    ]\n",
    "\n",
    "jsonKv = {x['type'] : makeKv(x['loc'])  for x in locs}\n",
    "# Using a dict comprehension not a list comprehension! \n",
    "# jsonKv"
   ]
  },
  {
   "cell_type": "code",
   "execution_count": 3,
   "metadata": {},
   "outputs": [
    {
     "data": {
      "text/plain": [
       "[{'label': 'Australia', 'value': 'AUS'},\n",
       " {'label': 'Austria', 'value': 'AUT'},\n",
       " {'label': 'Belarus', 'value': 'BLR'},\n",
       " {'label': 'Belgium', 'value': 'BEL'},\n",
       " {'label': 'Bulgaria', 'value': 'BGR'},\n",
       " {'label': 'Canada', 'value': 'CAN'},\n",
       " {'label': 'Chile', 'value': 'CHL'},\n",
       " {'label': 'Croatia', 'value': 'HRV'},\n",
       " {'label': 'Czechia', 'value': 'CZE'},\n",
       " {'label': 'Denmark', 'value': 'DNK'},\n",
       " {'label': 'Estonia', 'value': 'EST'},\n",
       " {'label': 'Finland', 'value': 'FIN'},\n",
       " {'label': 'France', 'value': 'FRATNP'},\n",
       " {'label': 'Germany', 'value': 'DEUTNP'},\n",
       " {'label': 'Greece', 'value': 'GRC'},\n",
       " {'label': 'Hong Kong', 'value': 'HKG'},\n",
       " {'label': 'Hungary', 'value': 'HUN'},\n",
       " {'label': 'Iceland', 'value': 'ISL'},\n",
       " {'label': 'Ireland', 'value': 'IRL'},\n",
       " {'label': 'Israel', 'value': 'ISR'},\n",
       " {'label': 'Italy', 'value': 'ITA'},\n",
       " {'label': 'Japan', 'value': 'JPN'},\n",
       " {'label': 'Latvia', 'value': 'LVA'},\n",
       " {'label': 'Lithuania', 'value': 'LTU'},\n",
       " {'label': 'Luxembourg', 'value': 'LUX'},\n",
       " {'label': 'Netherlands', 'value': 'NLD'},\n",
       " {'label': 'New Zealand', 'value': 'NZL_NP'},\n",
       " {'label': 'Norway', 'value': 'NOR'},\n",
       " {'label': 'Poland', 'value': 'POL'},\n",
       " {'label': 'Portugal', 'value': 'PRT'},\n",
       " {'label': 'Republic of Korea', 'value': 'KOR'},\n",
       " {'label': 'Russia', 'value': 'RUS'},\n",
       " {'label': 'Slovakia', 'value': 'SVK'},\n",
       " {'label': 'Slovenia', 'value': 'SVN'},\n",
       " {'label': 'Spain', 'value': 'ESP'},\n",
       " {'label': 'Sweden', 'value': 'SWE'},\n",
       " {'label': 'Switzerland', 'value': 'CHE'},\n",
       " {'label': 'Taiwan', 'value': 'TWN'},\n",
       " {'label': 'U.K.', 'value': 'GBR_NP'},\n",
       " {'label': 'U.S.A.', 'value': 'USA'},\n",
       " {'label': 'Ukraine', 'value': 'UKR'}]"
      ]
     },
     "execution_count": 3,
     "metadata": {},
     "output_type": "execute_result"
    }
   ],
   "source": [
    "type(jsonKv)\n",
    "\n",
    "jsonKv['lifetables']\n"
   ]
  },
  {
   "attachments": {},
   "cell_type": "markdown",
   "metadata": {},
   "source": [
    "And to write out as json..."
   ]
  },
  {
   "cell_type": "code",
   "execution_count": 7,
   "metadata": {},
   "outputs": [
    {
     "name": "stdout",
     "output_type": "stream",
     "text": [
      "Started writing dictionary to a file\n",
      "Done writing dict into .json file\n"
     ]
    }
   ],
   "source": [
    "\n",
    "print(\"Started writing dictionary to a file\")\n",
    "with open(\"../assets/lookups/places_by_type.json\", \"w\") as fp:\n",
    "    json.dump(jsonKv, fp)  # encode dict into JSON\n",
    "print(\"Done writing dict into .json file\")"
   ]
  }
 ],
 "metadata": {
  "kernelspec": {
   "display_name": "Python 3",
   "language": "python",
   "name": "python3"
  },
  "language_info": {
   "codemirror_mode": {
    "name": "ipython",
    "version": 3
   },
   "file_extension": ".py",
   "mimetype": "text/x-python",
   "name": "python",
   "nbconvert_exporter": "python",
   "pygments_lexer": "ipython3",
   "version": "3.10.9"
  },
  "orig_nbformat": 4
 },
 "nbformat": 4,
 "nbformat_minor": 2
}
