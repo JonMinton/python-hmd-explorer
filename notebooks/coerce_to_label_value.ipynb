{
 "cells": [
  {
   "attachments": {},
   "cell_type": "markdown",
   "metadata": {},
   "source": []
  },
  {
   "cell_type": "code",
   "execution_count": 2,
   "metadata": {},
   "outputs": [],
   "source": [
    "import pickle\n",
    "\n",
    "with open('../assets/lookups/countries.pkl', 'rb') as f:\n",
    "    lookupsCountries = pickle.load(f)\n",
    "\n"
   ]
  },
  {
   "cell_type": "code",
   "execution_count": 26,
   "metadata": {},
   "outputs": [
    {
     "data": {
      "text/plain": [
       "[{'label': 'Australia', 'value': 'AUS'},\n",
       " {'label': 'Austria', 'value': 'AUT'},\n",
       " {'label': 'Belarus', 'value': 'BLR'},\n",
       " {'label': 'Belgium', 'value': 'BEL'},\n",
       " {'label': 'Bulgaria', 'value': 'BGR'},\n",
       " {'label': 'Canada', 'value': 'CAN'},\n",
       " {'label': 'Chile', 'value': 'CHL'},\n",
       " {'label': 'Croatia', 'value': 'HRV'},\n",
       " {'label': 'Czechia', 'value': 'CZE'},\n",
       " {'label': 'Denmark', 'value': 'DNK'},\n",
       " {'label': 'Estonia', 'value': 'EST'},\n",
       " {'label': 'Finland', 'value': 'FIN'},\n",
       " {'label': 'France', 'value': 'FRATNP'},\n",
       " {'label': 'Germany', 'value': 'DEUTNP'},\n",
       " {'label': 'Greece', 'value': 'GRC'},\n",
       " {'label': 'Hong Kong', 'value': 'HKG'},\n",
       " {'label': 'Hungary', 'value': 'HUN'},\n",
       " {'label': 'Iceland', 'value': 'ISL'},\n",
       " {'label': 'Ireland', 'value': 'IRL'},\n",
       " {'label': 'Israel', 'value': 'ISR'},\n",
       " {'label': 'Italy', 'value': 'ITA'},\n",
       " {'label': 'Japan', 'value': 'JPN'},\n",
       " {'label': 'Latvia', 'value': 'LVA'},\n",
       " {'label': 'Lithuania', 'value': 'LTU'},\n",
       " {'label': 'Luxembourg', 'value': 'LUX'},\n",
       " {'label': 'Netherlands', 'value': 'NLD'},\n",
       " {'label': 'New Zealand', 'value': 'NZL_NP'},\n",
       " {'label': 'Norway', 'value': 'NOR'},\n",
       " {'label': 'Poland', 'value': 'POL'},\n",
       " {'label': 'Portugal', 'value': 'PRT'},\n",
       " {'label': 'Republic of Korea', 'value': 'KOR'},\n",
       " {'label': 'Russia', 'value': 'RUS'},\n",
       " {'label': 'Slovakia', 'value': 'SVK'},\n",
       " {'label': 'Slovenia', 'value': 'SVN'},\n",
       " {'label': 'Spain', 'value': 'ESP'},\n",
       " {'label': 'Sweden', 'value': 'SWE'},\n",
       " {'label': 'Switzerland', 'value': 'CHE'},\n",
       " {'label': 'Taiwan', 'value': 'TWN'},\n",
       " {'label': 'U.K.', 'value': 'GBR_NP'},\n",
       " {'label': 'U.S.A.', 'value': 'USA'},\n",
       " {'label': 'Ukraine', 'value': 'UKR'}]"
      ]
     },
     "execution_count": 26,
     "metadata": {},
     "output_type": "execute_result"
    }
   ],
   "source": [
    "[{'label': key, 'value': value} for key, value in lookupsCountries.items()]"
   ]
  }
 ],
 "metadata": {
  "kernelspec": {
   "display_name": "Python 3",
   "language": "python",
   "name": "python3"
  },
  "language_info": {
   "codemirror_mode": {
    "name": "ipython",
    "version": 3
   },
   "file_extension": ".py",
   "mimetype": "text/x-python",
   "name": "python",
   "nbconvert_exporter": "python",
   "pygments_lexer": "ipython3",
   "version": "3.10.9"
  },
  "orig_nbformat": 4
 },
 "nbformat": 4,
 "nbformat_minor": 2
}
