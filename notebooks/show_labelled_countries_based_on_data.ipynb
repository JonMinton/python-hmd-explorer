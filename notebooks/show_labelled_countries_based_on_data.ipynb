{
 "cells": [
  {
   "attachments": {},
   "cell_type": "markdown",
   "metadata": {},
   "source": [
    "The aim of this notebook is to confirm how I can generate a list of valid populations to select from based on the data"
   ]
  },
  {
   "cell_type": "code",
   "execution_count": 4,
   "metadata": {},
   "outputs": [
    {
     "data": {
      "text/html": [
       "<div>\n",
       "<style scoped>\n",
       "    .dataframe tbody tr th:only-of-type {\n",
       "        vertical-align: middle;\n",
       "    }\n",
       "\n",
       "    .dataframe tbody tr th {\n",
       "        vertical-align: top;\n",
       "    }\n",
       "\n",
       "    .dataframe thead th {\n",
       "        text-align: right;\n",
       "    }\n",
       "</style>\n",
       "<table border=\"1\" class=\"dataframe\">\n",
       "  <thead>\n",
       "    <tr style=\"text-align: right;\">\n",
       "      <th></th>\n",
       "      <th>country</th>\n",
       "      <th>link</th>\n",
       "      <th>cntry</th>\n",
       "      <th>year</th>\n",
       "      <th>age</th>\n",
       "      <th>sex</th>\n",
       "      <th>mx</th>\n",
       "    </tr>\n",
       "  </thead>\n",
       "  <tbody>\n",
       "    <tr>\n",
       "      <th>0</th>\n",
       "      <td>Australia</td>\n",
       "      <td>/Country/Country?cntr=AUS</td>\n",
       "      <td>AUS</td>\n",
       "      <td>1921</td>\n",
       "      <td>0</td>\n",
       "      <td>female</td>\n",
       "      <td>0.059987</td>\n",
       "    </tr>\n",
       "    <tr>\n",
       "      <th>1</th>\n",
       "      <td>Australia</td>\n",
       "      <td>/Country/Country?cntr=AUS</td>\n",
       "      <td>AUS</td>\n",
       "      <td>1921</td>\n",
       "      <td>0</td>\n",
       "      <td>male</td>\n",
       "      <td>0.076533</td>\n",
       "    </tr>\n",
       "    <tr>\n",
       "      <th>2</th>\n",
       "      <td>Australia</td>\n",
       "      <td>/Country/Country?cntr=AUS</td>\n",
       "      <td>AUS</td>\n",
       "      <td>1921</td>\n",
       "      <td>0</td>\n",
       "      <td>total</td>\n",
       "      <td>0.068444</td>\n",
       "    </tr>\n",
       "    <tr>\n",
       "      <th>3</th>\n",
       "      <td>Australia</td>\n",
       "      <td>/Country/Country?cntr=AUS</td>\n",
       "      <td>AUS</td>\n",
       "      <td>1921</td>\n",
       "      <td>1</td>\n",
       "      <td>female</td>\n",
       "      <td>0.012064</td>\n",
       "    </tr>\n",
       "    <tr>\n",
       "      <th>4</th>\n",
       "      <td>Australia</td>\n",
       "      <td>/Country/Country?cntr=AUS</td>\n",
       "      <td>AUS</td>\n",
       "      <td>1921</td>\n",
       "      <td>1</td>\n",
       "      <td>male</td>\n",
       "      <td>0.014339</td>\n",
       "    </tr>\n",
       "    <tr>\n",
       "      <th>...</th>\n",
       "      <td>...</td>\n",
       "      <td>...</td>\n",
       "      <td>...</td>\n",
       "      <td>...</td>\n",
       "      <td>...</td>\n",
       "      <td>...</td>\n",
       "      <td>...</td>\n",
       "    </tr>\n",
       "    <tr>\n",
       "      <th>1248745</th>\n",
       "      <td>Ukraine</td>\n",
       "      <td>/Country/Country?cntr=UKR</td>\n",
       "      <td>UKR</td>\n",
       "      <td>2013</td>\n",
       "      <td>109</td>\n",
       "      <td>male</td>\n",
       "      <td>NaN</td>\n",
       "    </tr>\n",
       "    <tr>\n",
       "      <th>1248746</th>\n",
       "      <td>Ukraine</td>\n",
       "      <td>/Country/Country?cntr=UKR</td>\n",
       "      <td>UKR</td>\n",
       "      <td>2013</td>\n",
       "      <td>109</td>\n",
       "      <td>total</td>\n",
       "      <td>0.654123</td>\n",
       "    </tr>\n",
       "    <tr>\n",
       "      <th>1248747</th>\n",
       "      <td>Ukraine</td>\n",
       "      <td>/Country/Country?cntr=UKR</td>\n",
       "      <td>UKR</td>\n",
       "      <td>2013</td>\n",
       "      <td>110</td>\n",
       "      <td>female</td>\n",
       "      <td>1.368043</td>\n",
       "    </tr>\n",
       "    <tr>\n",
       "      <th>1248748</th>\n",
       "      <td>Ukraine</td>\n",
       "      <td>/Country/Country?cntr=UKR</td>\n",
       "      <td>UKR</td>\n",
       "      <td>2013</td>\n",
       "      <td>110</td>\n",
       "      <td>male</td>\n",
       "      <td>NaN</td>\n",
       "    </tr>\n",
       "    <tr>\n",
       "      <th>1248749</th>\n",
       "      <td>Ukraine</td>\n",
       "      <td>/Country/Country?cntr=UKR</td>\n",
       "      <td>UKR</td>\n",
       "      <td>2013</td>\n",
       "      <td>110</td>\n",
       "      <td>total</td>\n",
       "      <td>1.368043</td>\n",
       "    </tr>\n",
       "  </tbody>\n",
       "</table>\n",
       "<p>1248750 rows × 7 columns</p>\n",
       "</div>"
      ],
      "text/plain": [
       "           country                       link cntry  year  age     sex  \\\n",
       "0        Australia  /Country/Country?cntr=AUS   AUS  1921    0  female   \n",
       "1        Australia  /Country/Country?cntr=AUS   AUS  1921    0    male   \n",
       "2        Australia  /Country/Country?cntr=AUS   AUS  1921    0   total   \n",
       "3        Australia  /Country/Country?cntr=AUS   AUS  1921    1  female   \n",
       "4        Australia  /Country/Country?cntr=AUS   AUS  1921    1    male   \n",
       "...            ...                        ...   ...   ...  ...     ...   \n",
       "1248745    Ukraine  /Country/Country?cntr=UKR   UKR  2013  109    male   \n",
       "1248746    Ukraine  /Country/Country?cntr=UKR   UKR  2013  109   total   \n",
       "1248747    Ukraine  /Country/Country?cntr=UKR   UKR  2013  110  female   \n",
       "1248748    Ukraine  /Country/Country?cntr=UKR   UKR  2013  110    male   \n",
       "1248749    Ukraine  /Country/Country?cntr=UKR   UKR  2013  110   total   \n",
       "\n",
       "               mx  \n",
       "0        0.059987  \n",
       "1        0.076533  \n",
       "2        0.068444  \n",
       "3        0.012064  \n",
       "4        0.014339  \n",
       "...           ...  \n",
       "1248745       NaN  \n",
       "1248746  0.654123  \n",
       "1248747  1.368043  \n",
       "1248748       NaN  \n",
       "1248749  1.368043  \n",
       "\n",
       "[1248750 rows x 7 columns]"
      ]
     },
     "execution_count": 4,
     "metadata": {},
     "output_type": "execute_result"
    }
   ],
   "source": [
    "import pandas as pd\n",
    "\n",
    "dta_mx = pd.read_csv(\"../assets/data/Mx.csv\")\n",
    "\n",
    "dta_mx"
   ]
  },
  {
   "cell_type": "code",
   "execution_count": 5,
   "metadata": {},
   "outputs": [
    {
     "data": {
      "text/plain": [
       "[{'label': 'Australia', 'value': 'AUS'},\n",
       " {'label': 'Austria', 'value': 'AUT'},\n",
       " {'label': 'Belarus', 'value': 'BLR'},\n",
       " {'label': 'Belgium', 'value': 'BEL'},\n",
       " {'label': 'Bulgaria', 'value': 'BGR'},\n",
       " {'label': 'Canada', 'value': 'CAN'},\n",
       " {'label': 'Chile', 'value': 'CHL'},\n",
       " {'label': 'Croatia', 'value': 'HRV'},\n",
       " {'label': 'Czechia', 'value': 'CZE'},\n",
       " {'label': 'Denmark', 'value': 'DNK'},\n",
       " {'label': 'Estonia', 'value': 'EST'},\n",
       " {'label': 'Finland', 'value': 'FIN'},\n",
       " {'label': 'France', 'value': 'FRATNP'},\n",
       " {'label': 'Germany', 'value': 'DEUTNP'},\n",
       " {'label': 'Greece', 'value': 'GRC'},\n",
       " {'label': 'Hong Kong', 'value': 'HKG'},\n",
       " {'label': 'Hungary', 'value': 'HUN'},\n",
       " {'label': 'Iceland', 'value': 'ISL'},\n",
       " {'label': 'Ireland', 'value': 'IRL'},\n",
       " {'label': 'Israel', 'value': 'ISR'},\n",
       " {'label': 'Italy', 'value': 'ITA'},\n",
       " {'label': 'Japan', 'value': 'JPN'},\n",
       " {'label': 'Latvia', 'value': 'LVA'},\n",
       " {'label': 'Lithuania', 'value': 'LTU'},\n",
       " {'label': 'Luxembourg', 'value': 'LUX'},\n",
       " {'label': 'Netherlands', 'value': 'NLD'},\n",
       " {'label': 'New Zealand', 'value': 'NZL_NP'},\n",
       " {'label': 'Norway', 'value': 'NOR'},\n",
       " {'label': 'Poland', 'value': 'POL'},\n",
       " {'label': 'Portugal', 'value': 'PRT'},\n",
       " {'label': 'Republic of Korea', 'value': 'KOR'},\n",
       " {'label': 'Russia', 'value': 'RUS'},\n",
       " {'label': 'Slovakia', 'value': 'SVK'},\n",
       " {'label': 'Slovenia', 'value': 'SVN'},\n",
       " {'label': 'Spain', 'value': 'ESP'},\n",
       " {'label': 'Sweden', 'value': 'SWE'},\n",
       " {'label': 'Switzerland', 'value': 'CHE'},\n",
       " {'label': 'Taiwan', 'value': 'TWN'},\n",
       " {'label': 'U.K.', 'value': 'GBR_NP'},\n",
       " {'label': 'U.S.A.', 'value': 'USA'},\n",
       " {'label': 'Ukraine', 'value': 'UKR'}]"
      ]
     },
     "execution_count": 5,
     "metadata": {},
     "output_type": "execute_result"
    }
   ],
   "source": [
    "countries_kv = dta_mx[[\"country\", \"cntry\"]].drop_duplicates().set_index('country').to_dict()['cntry']\n",
    "\n",
    "lookupsCountries = [{'label': key, 'value': value} for key, value in countries_kv.items()]    \n",
    "lookupsCountries"
   ]
  },
  {
   "attachments": {},
   "cell_type": "markdown",
   "metadata": {},
   "source": [
    "I now want to check I can return the first value as the default selected input"
   ]
  },
  {
   "cell_type": "code",
   "execution_count": 10,
   "metadata": {},
   "outputs": [
    {
     "data": {
      "text/plain": [
       "'AUS'"
      ]
     },
     "execution_count": 10,
     "metadata": {},
     "output_type": "execute_result"
    }
   ],
   "source": [
    "lookupsCountries[0].get('value')"
   ]
  },
  {
   "attachments": {},
   "cell_type": "markdown",
   "metadata": {},
   "source": [
    "Let's do the same for sex"
   ]
  },
  {
   "cell_type": "code",
   "execution_count": 12,
   "metadata": {},
   "outputs": [
    {
     "data": {
      "text/plain": [
       "0    female\n",
       "1      male\n",
       "2     total\n",
       "Name: sex, dtype: object"
      ]
     },
     "execution_count": 12,
     "metadata": {},
     "output_type": "execute_result"
    }
   ],
   "source": [
    "dta_mx.sex.drop_duplicates()"
   ]
  },
  {
   "attachments": {},
   "cell_type": "markdown",
   "metadata": {},
   "source": [
    "I think for sex it's less effort to hardcode it. "
   ]
  }
 ],
 "metadata": {
  "kernelspec": {
   "display_name": "Python 3",
   "language": "python",
   "name": "python3"
  },
  "language_info": {
   "codemirror_mode": {
    "name": "ipython",
    "version": 3
   },
   "file_extension": ".py",
   "mimetype": "text/x-python",
   "name": "python",
   "nbconvert_exporter": "python",
   "pygments_lexer": "ipython3",
   "version": "3.10.9"
  },
  "orig_nbformat": 4
 },
 "nbformat": 4,
 "nbformat_minor": 2
}
