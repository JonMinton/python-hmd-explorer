{
 "cells": [
  {
   "cell_type": "code",
   "execution_count": 2,
   "metadata": {},
   "outputs": [
    {
     "name": "stdout",
     "output_type": "stream",
     "text": [
      "Started writing list of data types to a file\n",
      "Done writing list of data types  .json file\n"
     ]
    }
   ],
   "source": [
    "import json \n",
    "\n",
    "typeKv = [\n",
    "    {\"label\" : \"Births\", \"value\" : \"births\"},\n",
    "    {\"label\" : \"Deaths\", \"value\" : \"deaths\"},\n",
    "    {\"label\" : \"Exposures\", \"value\" : \"exposures\"},\n",
    "    {\"label\" : \"Mortality Rates\", \"value\" : \"Mx\"},\n",
    "    {\"label\" : \"Lifetables\", \"value\" : \"lifetables\"},\n",
    "    {\"label\" : \"Population Sizes\", \"value\" : \"population\"}\n",
    "]\n",
    "\n",
    "print(\"Started writing list of data types to a file\")\n",
    "with open(\"../assets/lookups/types_of_data.json\", \"w\") as fp:\n",
    "    json.dump(typeKv, fp)  # encode dict into JSON\n",
    "print(\"Done writing list of data types  .json file\")"
   ]
  }
 ],
 "metadata": {
  "kernelspec": {
   "display_name": "Python 3",
   "language": "python",
   "name": "python3"
  },
  "language_info": {
   "codemirror_mode": {
    "name": "ipython",
    "version": 3
   },
   "file_extension": ".py",
   "mimetype": "text/x-python",
   "name": "python",
   "nbconvert_exporter": "python",
   "pygments_lexer": "ipython3",
   "version": "3.10.9"
  },
  "orig_nbformat": 4
 },
 "nbformat": 4,
 "nbformat_minor": 2
}
