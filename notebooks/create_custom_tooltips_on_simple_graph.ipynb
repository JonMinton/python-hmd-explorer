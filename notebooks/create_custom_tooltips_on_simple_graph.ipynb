{
 "cells": [
  {
   "cell_type": "code",
   "execution_count": 34,
   "metadata": {},
   "outputs": [],
   "source": [
    "import pandas as pd\n",
    "import plotly.express as px\n",
    "import plotly.graph_objects as go\n"
   ]
  },
  {
   "cell_type": "code",
   "execution_count": 35,
   "metadata": {},
   "outputs": [
    {
     "data": {
      "text/html": [
       "<div>\n",
       "<style scoped>\n",
       "    .dataframe tbody tr th:only-of-type {\n",
       "        vertical-align: middle;\n",
       "    }\n",
       "\n",
       "    .dataframe tbody tr th {\n",
       "        vertical-align: top;\n",
       "    }\n",
       "\n",
       "    .dataframe thead th {\n",
       "        text-align: right;\n",
       "    }\n",
       "</style>\n",
       "<table border=\"1\" class=\"dataframe\">\n",
       "  <thead>\n",
       "    <tr style=\"text-align: right;\">\n",
       "      <th></th>\n",
       "      <th>country</th>\n",
       "      <th>link</th>\n",
       "      <th>cntry</th>\n",
       "      <th>year</th>\n",
       "      <th>age</th>\n",
       "      <th>sex</th>\n",
       "      <th>mx</th>\n",
       "    </tr>\n",
       "  </thead>\n",
       "  <tbody>\n",
       "    <tr>\n",
       "      <th>1200798</th>\n",
       "      <td>U.S.A.</td>\n",
       "      <td>/Country/Country?cntr=USA</td>\n",
       "      <td>USA</td>\n",
       "      <td>1933</td>\n",
       "      <td>0</td>\n",
       "      <td>female</td>\n",
       "      <td>0.054177</td>\n",
       "    </tr>\n",
       "    <tr>\n",
       "      <th>1201131</th>\n",
       "      <td>U.S.A.</td>\n",
       "      <td>/Country/Country?cntr=USA</td>\n",
       "      <td>USA</td>\n",
       "      <td>1934</td>\n",
       "      <td>0</td>\n",
       "      <td>female</td>\n",
       "      <td>0.060211</td>\n",
       "    </tr>\n",
       "    <tr>\n",
       "      <th>1201464</th>\n",
       "      <td>U.S.A.</td>\n",
       "      <td>/Country/Country?cntr=USA</td>\n",
       "      <td>USA</td>\n",
       "      <td>1935</td>\n",
       "      <td>0</td>\n",
       "      <td>female</td>\n",
       "      <td>0.053557</td>\n",
       "    </tr>\n",
       "    <tr>\n",
       "      <th>1201797</th>\n",
       "      <td>U.S.A.</td>\n",
       "      <td>/Country/Country?cntr=USA</td>\n",
       "      <td>USA</td>\n",
       "      <td>1936</td>\n",
       "      <td>0</td>\n",
       "      <td>female</td>\n",
       "      <td>0.055160</td>\n",
       "    </tr>\n",
       "    <tr>\n",
       "      <th>1202130</th>\n",
       "      <td>U.S.A.</td>\n",
       "      <td>/Country/Country?cntr=USA</td>\n",
       "      <td>USA</td>\n",
       "      <td>1937</td>\n",
       "      <td>0</td>\n",
       "      <td>female</td>\n",
       "      <td>0.053895</td>\n",
       "    </tr>\n",
       "    <tr>\n",
       "      <th>...</th>\n",
       "      <td>...</td>\n",
       "      <td>...</td>\n",
       "      <td>...</td>\n",
       "      <td>...</td>\n",
       "      <td>...</td>\n",
       "      <td>...</td>\n",
       "      <td>...</td>\n",
       "    </tr>\n",
       "    <tr>\n",
       "      <th>1228770</th>\n",
       "      <td>U.S.A.</td>\n",
       "      <td>/Country/Country?cntr=USA</td>\n",
       "      <td>USA</td>\n",
       "      <td>2017</td>\n",
       "      <td>0</td>\n",
       "      <td>female</td>\n",
       "      <td>0.005192</td>\n",
       "    </tr>\n",
       "    <tr>\n",
       "      <th>1229103</th>\n",
       "      <td>U.S.A.</td>\n",
       "      <td>/Country/Country?cntr=USA</td>\n",
       "      <td>USA</td>\n",
       "      <td>2018</td>\n",
       "      <td>0</td>\n",
       "      <td>female</td>\n",
       "      <td>0.005014</td>\n",
       "    </tr>\n",
       "    <tr>\n",
       "      <th>1229436</th>\n",
       "      <td>U.S.A.</td>\n",
       "      <td>/Country/Country?cntr=USA</td>\n",
       "      <td>USA</td>\n",
       "      <td>2019</td>\n",
       "      <td>0</td>\n",
       "      <td>female</td>\n",
       "      <td>0.005026</td>\n",
       "    </tr>\n",
       "    <tr>\n",
       "      <th>1229769</th>\n",
       "      <td>U.S.A.</td>\n",
       "      <td>/Country/Country?cntr=USA</td>\n",
       "      <td>USA</td>\n",
       "      <td>2020</td>\n",
       "      <td>0</td>\n",
       "      <td>female</td>\n",
       "      <td>0.004824</td>\n",
       "    </tr>\n",
       "    <tr>\n",
       "      <th>1230102</th>\n",
       "      <td>U.S.A.</td>\n",
       "      <td>/Country/Country?cntr=USA</td>\n",
       "      <td>USA</td>\n",
       "      <td>2021</td>\n",
       "      <td>0</td>\n",
       "      <td>female</td>\n",
       "      <td>0.005146</td>\n",
       "    </tr>\n",
       "  </tbody>\n",
       "</table>\n",
       "<p>89 rows × 7 columns</p>\n",
       "</div>"
      ],
      "text/plain": [
       "        country                       link cntry  year  age     sex        mx\n",
       "1200798  U.S.A.  /Country/Country?cntr=USA   USA  1933    0  female  0.054177\n",
       "1201131  U.S.A.  /Country/Country?cntr=USA   USA  1934    0  female  0.060211\n",
       "1201464  U.S.A.  /Country/Country?cntr=USA   USA  1935    0  female  0.053557\n",
       "1201797  U.S.A.  /Country/Country?cntr=USA   USA  1936    0  female  0.055160\n",
       "1202130  U.S.A.  /Country/Country?cntr=USA   USA  1937    0  female  0.053895\n",
       "...         ...                        ...   ...   ...  ...     ...       ...\n",
       "1228770  U.S.A.  /Country/Country?cntr=USA   USA  2017    0  female  0.005192\n",
       "1229103  U.S.A.  /Country/Country?cntr=USA   USA  2018    0  female  0.005014\n",
       "1229436  U.S.A.  /Country/Country?cntr=USA   USA  2019    0  female  0.005026\n",
       "1229769  U.S.A.  /Country/Country?cntr=USA   USA  2020    0  female  0.004824\n",
       "1230102  U.S.A.  /Country/Country?cntr=USA   USA  2021    0  female  0.005146\n",
       "\n",
       "[89 rows x 7 columns]"
      ]
     },
     "execution_count": 35,
     "metadata": {},
     "output_type": "execute_result"
    }
   ],
   "source": [
    "d = pd.read_csv(\"../assets/data/Mx.csv\")\n",
    "d2 = d[\n",
    "    (d['sex'] == 'female') &\n",
    "    (d['cntry'] == 'USA') & \n",
    "    (d['age'] == 0)\n",
    "    ]\n",
    "#\n",
    "d2\n"
   ]
  },
  {
   "cell_type": "code",
   "execution_count": 45,
   "metadata": {},
   "outputs": [
    {
     "name": "stderr",
     "output_type": "stream",
     "text": [
      "/var/folders/cp/3jc3y0nj5698z6h5nk3yzng00000gn/T/ipykernel_88376/552992615.py:1: SettingWithCopyWarning:\n",
      "\n",
      "\n",
      "A value is trying to be set on a copy of a slice from a DataFrame.\n",
      "Try using .loc[row_indexer,col_indexer] = value instead\n",
      "\n",
      "See the caveats in the documentation: https://pandas.pydata.org/pandas-docs/stable/user_guide/indexing.html#returning-a-view-versus-a-copy\n",
      "\n"
     ]
    },
    {
     "data": {
      "text/html": [
       "<div>\n",
       "<style scoped>\n",
       "    .dataframe tbody tr th:only-of-type {\n",
       "        vertical-align: middle;\n",
       "    }\n",
       "\n",
       "    .dataframe tbody tr th {\n",
       "        vertical-align: top;\n",
       "    }\n",
       "\n",
       "    .dataframe thead th {\n",
       "        text-align: right;\n",
       "    }\n",
       "</style>\n",
       "<table border=\"1\" class=\"dataframe\">\n",
       "  <thead>\n",
       "    <tr style=\"text-align: right;\">\n",
       "      <th></th>\n",
       "      <th>country</th>\n",
       "      <th>link</th>\n",
       "      <th>cntry</th>\n",
       "      <th>year</th>\n",
       "      <th>age</th>\n",
       "      <th>sex</th>\n",
       "      <th>mx</th>\n",
       "      <th>text</th>\n",
       "    </tr>\n",
       "  </thead>\n",
       "  <tbody>\n",
       "    <tr>\n",
       "      <th>1200798</th>\n",
       "      <td>U.S.A.</td>\n",
       "      <td>/Country/Country?cntr=USA</td>\n",
       "      <td>USA</td>\n",
       "      <td>1933</td>\n",
       "      <td>0</td>\n",
       "      <td>female</td>\n",
       "      <td>0.054177</td>\n",
       "      <td>In 1933 at age 0 the female mortality rate was...</td>\n",
       "    </tr>\n",
       "    <tr>\n",
       "      <th>1201131</th>\n",
       "      <td>U.S.A.</td>\n",
       "      <td>/Country/Country?cntr=USA</td>\n",
       "      <td>USA</td>\n",
       "      <td>1934</td>\n",
       "      <td>0</td>\n",
       "      <td>female</td>\n",
       "      <td>0.060211</td>\n",
       "      <td>In 1934 at age 0 the female mortality rate was...</td>\n",
       "    </tr>\n",
       "    <tr>\n",
       "      <th>1201464</th>\n",
       "      <td>U.S.A.</td>\n",
       "      <td>/Country/Country?cntr=USA</td>\n",
       "      <td>USA</td>\n",
       "      <td>1935</td>\n",
       "      <td>0</td>\n",
       "      <td>female</td>\n",
       "      <td>0.053557</td>\n",
       "      <td>In 1935 at age 0 the female mortality rate was...</td>\n",
       "    </tr>\n",
       "    <tr>\n",
       "      <th>1201797</th>\n",
       "      <td>U.S.A.</td>\n",
       "      <td>/Country/Country?cntr=USA</td>\n",
       "      <td>USA</td>\n",
       "      <td>1936</td>\n",
       "      <td>0</td>\n",
       "      <td>female</td>\n",
       "      <td>0.055160</td>\n",
       "      <td>In 1936 at age 0 the female mortality rate was...</td>\n",
       "    </tr>\n",
       "    <tr>\n",
       "      <th>1202130</th>\n",
       "      <td>U.S.A.</td>\n",
       "      <td>/Country/Country?cntr=USA</td>\n",
       "      <td>USA</td>\n",
       "      <td>1937</td>\n",
       "      <td>0</td>\n",
       "      <td>female</td>\n",
       "      <td>0.053895</td>\n",
       "      <td>In 1937 at age 0 the female mortality rate was...</td>\n",
       "    </tr>\n",
       "    <tr>\n",
       "      <th>...</th>\n",
       "      <td>...</td>\n",
       "      <td>...</td>\n",
       "      <td>...</td>\n",
       "      <td>...</td>\n",
       "      <td>...</td>\n",
       "      <td>...</td>\n",
       "      <td>...</td>\n",
       "      <td>...</td>\n",
       "    </tr>\n",
       "    <tr>\n",
       "      <th>1228770</th>\n",
       "      <td>U.S.A.</td>\n",
       "      <td>/Country/Country?cntr=USA</td>\n",
       "      <td>USA</td>\n",
       "      <td>2017</td>\n",
       "      <td>0</td>\n",
       "      <td>female</td>\n",
       "      <td>0.005192</td>\n",
       "      <td>In 2017 at age 0 the female mortality rate was...</td>\n",
       "    </tr>\n",
       "    <tr>\n",
       "      <th>1229103</th>\n",
       "      <td>U.S.A.</td>\n",
       "      <td>/Country/Country?cntr=USA</td>\n",
       "      <td>USA</td>\n",
       "      <td>2018</td>\n",
       "      <td>0</td>\n",
       "      <td>female</td>\n",
       "      <td>0.005014</td>\n",
       "      <td>In 2018 at age 0 the female mortality rate was...</td>\n",
       "    </tr>\n",
       "    <tr>\n",
       "      <th>1229436</th>\n",
       "      <td>U.S.A.</td>\n",
       "      <td>/Country/Country?cntr=USA</td>\n",
       "      <td>USA</td>\n",
       "      <td>2019</td>\n",
       "      <td>0</td>\n",
       "      <td>female</td>\n",
       "      <td>0.005026</td>\n",
       "      <td>In 2019 at age 0 the female mortality rate was...</td>\n",
       "    </tr>\n",
       "    <tr>\n",
       "      <th>1229769</th>\n",
       "      <td>U.S.A.</td>\n",
       "      <td>/Country/Country?cntr=USA</td>\n",
       "      <td>USA</td>\n",
       "      <td>2020</td>\n",
       "      <td>0</td>\n",
       "      <td>female</td>\n",
       "      <td>0.004824</td>\n",
       "      <td>In 2020 at age 0 the female mortality rate was...</td>\n",
       "    </tr>\n",
       "    <tr>\n",
       "      <th>1230102</th>\n",
       "      <td>U.S.A.</td>\n",
       "      <td>/Country/Country?cntr=USA</td>\n",
       "      <td>USA</td>\n",
       "      <td>2021</td>\n",
       "      <td>0</td>\n",
       "      <td>female</td>\n",
       "      <td>0.005146</td>\n",
       "      <td>In 2021 at age 0 the female mortality rate was...</td>\n",
       "    </tr>\n",
       "  </tbody>\n",
       "</table>\n",
       "<p>89 rows × 8 columns</p>\n",
       "</div>"
      ],
      "text/plain": [
       "        country                       link cntry  year  age     sex        mx  \\\n",
       "1200798  U.S.A.  /Country/Country?cntr=USA   USA  1933    0  female  0.054177   \n",
       "1201131  U.S.A.  /Country/Country?cntr=USA   USA  1934    0  female  0.060211   \n",
       "1201464  U.S.A.  /Country/Country?cntr=USA   USA  1935    0  female  0.053557   \n",
       "1201797  U.S.A.  /Country/Country?cntr=USA   USA  1936    0  female  0.055160   \n",
       "1202130  U.S.A.  /Country/Country?cntr=USA   USA  1937    0  female  0.053895   \n",
       "...         ...                        ...   ...   ...  ...     ...       ...   \n",
       "1228770  U.S.A.  /Country/Country?cntr=USA   USA  2017    0  female  0.005192   \n",
       "1229103  U.S.A.  /Country/Country?cntr=USA   USA  2018    0  female  0.005014   \n",
       "1229436  U.S.A.  /Country/Country?cntr=USA   USA  2019    0  female  0.005026   \n",
       "1229769  U.S.A.  /Country/Country?cntr=USA   USA  2020    0  female  0.004824   \n",
       "1230102  U.S.A.  /Country/Country?cntr=USA   USA  2021    0  female  0.005146   \n",
       "\n",
       "                                                      text  \n",
       "1200798  In 1933 at age 0 the female mortality rate was...  \n",
       "1201131  In 1934 at age 0 the female mortality rate was...  \n",
       "1201464  In 1935 at age 0 the female mortality rate was...  \n",
       "1201797  In 1936 at age 0 the female mortality rate was...  \n",
       "1202130  In 1937 at age 0 the female mortality rate was...  \n",
       "...                                                    ...  \n",
       "1228770  In 2017 at age 0 the female mortality rate was...  \n",
       "1229103  In 2018 at age 0 the female mortality rate was...  \n",
       "1229436  In 2019 at age 0 the female mortality rate was...  \n",
       "1229769  In 2020 at age 0 the female mortality rate was...  \n",
       "1230102  In 2021 at age 0 the female mortality rate was...  \n",
       "\n",
       "[89 rows x 8 columns]"
      ]
     },
     "execution_count": 45,
     "metadata": {},
     "output_type": "execute_result"
    }
   ],
   "source": [
    "d2['text'] = d2.apply(\n",
    "    lambda x: \"In %s at age %s the %s mortality rate was %1.4f\" % (\n",
    "        x['year'], x['age'], x['sex'], x['mx']\n",
    "    ), axis = 1\n",
    ")\n",
    "\n",
    "d2\n",
    "\n"
   ]
  },
  {
   "attachments": {},
   "cell_type": "markdown",
   "metadata": {},
   "source": [
    "This produces the usual warning about not using .loc but gets the job done. This is definitely a bit more involved than using mutate and glue in R. \n",
    "I should work out how to add breaklines too. I think when using hovertemplate I should use <br> instead"
   ]
  },
  {
   "cell_type": "code",
   "execution_count": 54,
   "metadata": {},
   "outputs": [
    {
     "data": {
      "application/vnd.plotly.v1+json": {
       "config": {
        "plotlyServerURL": "https://plot.ly"
       },
       "data": [
        {
         "customdata": [
          [
           "In 1933 at age 0 the female mortality rate was 0.0542"
          ],
          [
           "In 1934 at age 0 the female mortality rate was 0.0602"
          ],
          [
           "In 1935 at age 0 the female mortality rate was 0.0536"
          ],
          [
           "In 1936 at age 0 the female mortality rate was 0.0552"
          ],
          [
           "In 1937 at age 0 the female mortality rate was 0.0539"
          ],
          [
           "In 1938 at age 0 the female mortality rate was 0.0507"
          ],
          [
           "In 1939 at age 0 the female mortality rate was 0.0468"
          ],
          [
           "In 1940 at age 0 the female mortality rate was 0.0468"
          ],
          [
           "In 1941 at age 0 the female mortality rate was 0.0460"
          ],
          [
           "In 1942 at age 0 the female mortality rate was 0.0425"
          ],
          [
           "In 1943 at age 0 the female mortality rate was 0.0394"
          ],
          [
           "In 1944 at age 0 the female mortality rate was 0.0388"
          ],
          [
           "In 1945 at age 0 the female mortality rate was 0.0369"
          ],
          [
           "In 1946 at age 0 the female mortality rate was 0.0380"
          ],
          [
           "In 1947 at age 0 the female mortality rate was 0.0314"
          ],
          [
           "In 1948 at age 0 the female mortality rate was 0.0307"
          ],
          [
           "In 1949 at age 0 the female mortality rate was 0.0305"
          ],
          [
           "In 1950 at age 0 the female mortality rate was 0.0282"
          ],
          [
           "In 1951 at age 0 the female mortality rate was 0.0279"
          ],
          [
           "In 1952 at age 0 the female mortality rate was 0.0279"
          ],
          [
           "In 1953 at age 0 the female mortality rate was 0.0265"
          ],
          [
           "In 1954 at age 0 the female mortality rate was 0.0253"
          ],
          [
           "In 1955 at age 0 the female mortality rate was 0.0246"
          ],
          [
           "In 1956 at age 0 the female mortality rate was 0.0241"
          ],
          [
           "In 1957 at age 0 the female mortality rate was 0.0243"
          ],
          [
           "In 1958 at age 0 the female mortality rate was 0.0244"
          ],
          [
           "In 1959 at age 0 the female mortality rate was 0.0237"
          ],
          [
           "In 1960 at age 0 the female mortality rate was 0.0232"
          ],
          [
           "In 1961 at age 0 the female mortality rate was 0.0224"
          ],
          [
           "In 1962 at age 0 the female mortality rate was 0.0221"
          ],
          [
           "In 1963 at age 0 the female mortality rate was 0.0221"
          ],
          [
           "In 1964 at age 0 the female mortality rate was 0.0220"
          ],
          [
           "In 1965 at age 0 the female mortality rate was 0.0213"
          ],
          [
           "In 1966 at age 0 the female mortality rate was 0.0207"
          ],
          [
           "In 1967 at age 0 the female mortality rate was 0.0197"
          ],
          [
           "In 1968 at age 0 the female mortality rate was 0.0195"
          ],
          [
           "In 1969 at age 0 the female mortality rate was 0.0189"
          ],
          [
           "In 1970 at age 0 the female mortality rate was 0.0185"
          ],
          [
           "In 1971 at age 0 the female mortality rate was 0.0166"
          ],
          [
           "In 1972 at age 0 the female mortality rate was 0.0157"
          ],
          [
           "In 1973 at age 0 the female mortality rate was 0.0152"
          ],
          [
           "In 1974 at age 0 the female mortality rate was 0.0149"
          ],
          [
           "In 1975 at age 0 the female mortality rate was 0.0142"
          ],
          [
           "In 1976 at age 0 the female mortality rate was 0.0136"
          ],
          [
           "In 1977 at age 0 the female mortality rate was 0.0126"
          ],
          [
           "In 1978 at age 0 the female mortality rate was 0.0122"
          ],
          [
           "In 1979 at age 0 the female mortality rate was 0.0117"
          ],
          [
           "In 1980 at age 0 the female mortality rate was 0.0114"
          ],
          [
           "In 1981 at age 0 the female mortality rate was 0.0107"
          ],
          [
           "In 1982 at age 0 the female mortality rate was 0.0103"
          ],
          [
           "In 1983 at age 0 the female mortality rate was 0.0099"
          ],
          [
           "In 1984 at age 0 the female mortality rate was 0.0098"
          ],
          [
           "In 1985 at age 0 the female mortality rate was 0.0095"
          ],
          [
           "In 1986 at age 0 the female mortality rate was 0.0092"
          ],
          [
           "In 1987 at age 0 the female mortality rate was 0.0092"
          ],
          [
           "In 1988 at age 0 the female mortality rate was 0.0092"
          ],
          [
           "In 1989 at age 0 the female mortality rate was 0.0093"
          ],
          [
           "In 1990 at age 0 the female mortality rate was 0.0086"
          ],
          [
           "In 1991 at age 0 the female mortality rate was 0.0082"
          ],
          [
           "In 1992 at age 0 the female mortality rate was 0.0078"
          ],
          [
           "In 1993 at age 0 the female mortality rate was 0.0076"
          ],
          [
           "In 1994 at age 0 the female mortality rate was 0.0074"
          ],
          [
           "In 1995 at age 0 the female mortality rate was 0.0070"
          ],
          [
           "In 1996 at age 0 the female mortality rate was 0.0069"
          ],
          [
           "In 1997 at age 0 the female mortality rate was 0.0067"
          ],
          [
           "In 1998 at age 0 the female mortality rate was 0.0069"
          ],
          [
           "In 1999 at age 0 the female mortality rate was 0.0066"
          ],
          [
           "In 2000 at age 0 the female mortality rate was 0.0065"
          ],
          [
           "In 2001 at age 0 the female mortality rate was 0.0062"
          ],
          [
           "In 2002 at age 0 the female mortality rate was 0.0063"
          ],
          [
           "In 2003 at age 0 the female mortality rate was 0.0062"
          ],
          [
           "In 2004 at age 0 the female mortality rate was 0.0062"
          ],
          [
           "In 2005 at age 0 the female mortality rate was 0.0063"
          ],
          [
           "In 2006 at age 0 the female mortality rate was 0.0063"
          ],
          [
           "In 2007 at age 0 the female mortality rate was 0.0064"
          ],
          [
           "In 2008 at age 0 the female mortality rate was 0.0061"
          ],
          [
           "In 2009 at age 0 the female mortality rate was 0.0059"
          ],
          [
           "In 2010 at age 0 the female mortality rate was 0.0056"
          ],
          [
           "In 2011 at age 0 the female mortality rate was 0.0055"
          ],
          [
           "In 2012 at age 0 the female mortality rate was 0.0055"
          ],
          [
           "In 2013 at age 0 the female mortality rate was 0.0054"
          ],
          [
           "In 2014 at age 0 the female mortality rate was 0.0053"
          ],
          [
           "In 2015 at age 0 the female mortality rate was 0.0054"
          ],
          [
           "In 2016 at age 0 the female mortality rate was 0.0053"
          ],
          [
           "In 2017 at age 0 the female mortality rate was 0.0052"
          ],
          [
           "In 2018 at age 0 the female mortality rate was 0.0050"
          ],
          [
           "In 2019 at age 0 the female mortality rate was 0.0050"
          ],
          [
           "In 2020 at age 0 the female mortality rate was 0.0048"
          ],
          [
           "In 2021 at age 0 the female mortality rate was 0.0051"
          ]
         ],
         "fillpattern": {
          "shape": ""
         },
         "hovertemplate": "text=%{customdata[0]}<extra></extra>",
         "legendgroup": "",
         "line": {
          "color": "#636efa"
         },
         "marker": {
          "symbol": "circle"
         },
         "mode": "lines",
         "name": "",
         "orientation": "v",
         "showlegend": false,
         "stackgroup": "1",
         "type": "scatter",
         "x": [
          1933,
          1934,
          1935,
          1936,
          1937,
          1938,
          1939,
          1940,
          1941,
          1942,
          1943,
          1944,
          1945,
          1946,
          1947,
          1948,
          1949,
          1950,
          1951,
          1952,
          1953,
          1954,
          1955,
          1956,
          1957,
          1958,
          1959,
          1960,
          1961,
          1962,
          1963,
          1964,
          1965,
          1966,
          1967,
          1968,
          1969,
          1970,
          1971,
          1972,
          1973,
          1974,
          1975,
          1976,
          1977,
          1978,
          1979,
          1980,
          1981,
          1982,
          1983,
          1984,
          1985,
          1986,
          1987,
          1988,
          1989,
          1990,
          1991,
          1992,
          1993,
          1994,
          1995,
          1996,
          1997,
          1998,
          1999,
          2000,
          2001,
          2002,
          2003,
          2004,
          2005,
          2006,
          2007,
          2008,
          2009,
          2010,
          2011,
          2012,
          2013,
          2014,
          2015,
          2016,
          2017,
          2018,
          2019,
          2020,
          2021
         ],
         "xaxis": "x",
         "y": [
          0.054177,
          0.060211,
          0.053557,
          0.05516,
          0.053895,
          0.050748,
          0.046848,
          0.046847,
          0.046043,
          0.042484,
          0.039437,
          0.038848,
          0.0369,
          0.037959,
          0.031355,
          0.030705,
          0.030533,
          0.028208,
          0.027885,
          0.027858,
          0.026524,
          0.025308,
          0.02465,
          0.02414,
          0.024322,
          0.024429,
          0.023706,
          0.023229,
          0.022388,
          0.022135,
          0.02208,
          0.021994,
          0.021288,
          0.020677,
          0.01974,
          0.019456,
          0.018882,
          0.018538,
          0.01662,
          0.015683,
          0.015246,
          0.014905,
          0.014161,
          0.013616,
          0.012575,
          0.012223,
          0.011711,
          0.011387,
          0.010687,
          0.0103,
          0.00993,
          0.009796,
          0.009528,
          0.009218,
          0.009162,
          0.009183,
          0.009269,
          0.008607,
          0.008151,
          0.007828,
          0.007635,
          0.007431,
          0.007025,
          0.006854,
          0.00669,
          0.006852,
          0.006629,
          0.006499,
          0.006229,
          0.006349,
          0.006235,
          0.006248,
          0.006328,
          0.006336,
          0.006358,
          0.006143,
          0.005887,
          0.005627,
          0.005516,
          0.005465,
          0.005361,
          0.00534,
          0.005375,
          0.005332,
          0.0051919999999999,
          0.005014,
          0.005026,
          0.004824,
          0.005146
         ],
         "yaxis": "y"
        }
       ],
       "layout": {
        "legend": {
         "tracegroupgap": 0
        },
        "margin": {
         "t": 60
        },
        "template": {
         "data": {
          "bar": [
           {
            "error_x": {
             "color": "#2a3f5f"
            },
            "error_y": {
             "color": "#2a3f5f"
            },
            "marker": {
             "line": {
              "color": "#E5ECF6",
              "width": 0.5
             },
             "pattern": {
              "fillmode": "overlay",
              "size": 10,
              "solidity": 0.2
             }
            },
            "type": "bar"
           }
          ],
          "barpolar": [
           {
            "marker": {
             "line": {
              "color": "#E5ECF6",
              "width": 0.5
             },
             "pattern": {
              "fillmode": "overlay",
              "size": 10,
              "solidity": 0.2
             }
            },
            "type": "barpolar"
           }
          ],
          "carpet": [
           {
            "aaxis": {
             "endlinecolor": "#2a3f5f",
             "gridcolor": "white",
             "linecolor": "white",
             "minorgridcolor": "white",
             "startlinecolor": "#2a3f5f"
            },
            "baxis": {
             "endlinecolor": "#2a3f5f",
             "gridcolor": "white",
             "linecolor": "white",
             "minorgridcolor": "white",
             "startlinecolor": "#2a3f5f"
            },
            "type": "carpet"
           }
          ],
          "choropleth": [
           {
            "colorbar": {
             "outlinewidth": 0,
             "ticks": ""
            },
            "type": "choropleth"
           }
          ],
          "contour": [
           {
            "colorbar": {
             "outlinewidth": 0,
             "ticks": ""
            },
            "colorscale": [
             [
              0,
              "#0d0887"
             ],
             [
              0.1111111111111111,
              "#46039f"
             ],
             [
              0.2222222222222222,
              "#7201a8"
             ],
             [
              0.3333333333333333,
              "#9c179e"
             ],
             [
              0.4444444444444444,
              "#bd3786"
             ],
             [
              0.5555555555555556,
              "#d8576b"
             ],
             [
              0.6666666666666666,
              "#ed7953"
             ],
             [
              0.7777777777777778,
              "#fb9f3a"
             ],
             [
              0.8888888888888888,
              "#fdca26"
             ],
             [
              1,
              "#f0f921"
             ]
            ],
            "type": "contour"
           }
          ],
          "contourcarpet": [
           {
            "colorbar": {
             "outlinewidth": 0,
             "ticks": ""
            },
            "type": "contourcarpet"
           }
          ],
          "heatmap": [
           {
            "colorbar": {
             "outlinewidth": 0,
             "ticks": ""
            },
            "colorscale": [
             [
              0,
              "#0d0887"
             ],
             [
              0.1111111111111111,
              "#46039f"
             ],
             [
              0.2222222222222222,
              "#7201a8"
             ],
             [
              0.3333333333333333,
              "#9c179e"
             ],
             [
              0.4444444444444444,
              "#bd3786"
             ],
             [
              0.5555555555555556,
              "#d8576b"
             ],
             [
              0.6666666666666666,
              "#ed7953"
             ],
             [
              0.7777777777777778,
              "#fb9f3a"
             ],
             [
              0.8888888888888888,
              "#fdca26"
             ],
             [
              1,
              "#f0f921"
             ]
            ],
            "type": "heatmap"
           }
          ],
          "heatmapgl": [
           {
            "colorbar": {
             "outlinewidth": 0,
             "ticks": ""
            },
            "colorscale": [
             [
              0,
              "#0d0887"
             ],
             [
              0.1111111111111111,
              "#46039f"
             ],
             [
              0.2222222222222222,
              "#7201a8"
             ],
             [
              0.3333333333333333,
              "#9c179e"
             ],
             [
              0.4444444444444444,
              "#bd3786"
             ],
             [
              0.5555555555555556,
              "#d8576b"
             ],
             [
              0.6666666666666666,
              "#ed7953"
             ],
             [
              0.7777777777777778,
              "#fb9f3a"
             ],
             [
              0.8888888888888888,
              "#fdca26"
             ],
             [
              1,
              "#f0f921"
             ]
            ],
            "type": "heatmapgl"
           }
          ],
          "histogram": [
           {
            "marker": {
             "pattern": {
              "fillmode": "overlay",
              "size": 10,
              "solidity": 0.2
             }
            },
            "type": "histogram"
           }
          ],
          "histogram2d": [
           {
            "colorbar": {
             "outlinewidth": 0,
             "ticks": ""
            },
            "colorscale": [
             [
              0,
              "#0d0887"
             ],
             [
              0.1111111111111111,
              "#46039f"
             ],
             [
              0.2222222222222222,
              "#7201a8"
             ],
             [
              0.3333333333333333,
              "#9c179e"
             ],
             [
              0.4444444444444444,
              "#bd3786"
             ],
             [
              0.5555555555555556,
              "#d8576b"
             ],
             [
              0.6666666666666666,
              "#ed7953"
             ],
             [
              0.7777777777777778,
              "#fb9f3a"
             ],
             [
              0.8888888888888888,
              "#fdca26"
             ],
             [
              1,
              "#f0f921"
             ]
            ],
            "type": "histogram2d"
           }
          ],
          "histogram2dcontour": [
           {
            "colorbar": {
             "outlinewidth": 0,
             "ticks": ""
            },
            "colorscale": [
             [
              0,
              "#0d0887"
             ],
             [
              0.1111111111111111,
              "#46039f"
             ],
             [
              0.2222222222222222,
              "#7201a8"
             ],
             [
              0.3333333333333333,
              "#9c179e"
             ],
             [
              0.4444444444444444,
              "#bd3786"
             ],
             [
              0.5555555555555556,
              "#d8576b"
             ],
             [
              0.6666666666666666,
              "#ed7953"
             ],
             [
              0.7777777777777778,
              "#fb9f3a"
             ],
             [
              0.8888888888888888,
              "#fdca26"
             ],
             [
              1,
              "#f0f921"
             ]
            ],
            "type": "histogram2dcontour"
           }
          ],
          "mesh3d": [
           {
            "colorbar": {
             "outlinewidth": 0,
             "ticks": ""
            },
            "type": "mesh3d"
           }
          ],
          "parcoords": [
           {
            "line": {
             "colorbar": {
              "outlinewidth": 0,
              "ticks": ""
             }
            },
            "type": "parcoords"
           }
          ],
          "pie": [
           {
            "automargin": true,
            "type": "pie"
           }
          ],
          "scatter": [
           {
            "fillpattern": {
             "fillmode": "overlay",
             "size": 10,
             "solidity": 0.2
            },
            "type": "scatter"
           }
          ],
          "scatter3d": [
           {
            "line": {
             "colorbar": {
              "outlinewidth": 0,
              "ticks": ""
             }
            },
            "marker": {
             "colorbar": {
              "outlinewidth": 0,
              "ticks": ""
             }
            },
            "type": "scatter3d"
           }
          ],
          "scattercarpet": [
           {
            "marker": {
             "colorbar": {
              "outlinewidth": 0,
              "ticks": ""
             }
            },
            "type": "scattercarpet"
           }
          ],
          "scattergeo": [
           {
            "marker": {
             "colorbar": {
              "outlinewidth": 0,
              "ticks": ""
             }
            },
            "type": "scattergeo"
           }
          ],
          "scattergl": [
           {
            "marker": {
             "colorbar": {
              "outlinewidth": 0,
              "ticks": ""
             }
            },
            "type": "scattergl"
           }
          ],
          "scattermapbox": [
           {
            "marker": {
             "colorbar": {
              "outlinewidth": 0,
              "ticks": ""
             }
            },
            "type": "scattermapbox"
           }
          ],
          "scatterpolar": [
           {
            "marker": {
             "colorbar": {
              "outlinewidth": 0,
              "ticks": ""
             }
            },
            "type": "scatterpolar"
           }
          ],
          "scatterpolargl": [
           {
            "marker": {
             "colorbar": {
              "outlinewidth": 0,
              "ticks": ""
             }
            },
            "type": "scatterpolargl"
           }
          ],
          "scatterternary": [
           {
            "marker": {
             "colorbar": {
              "outlinewidth": 0,
              "ticks": ""
             }
            },
            "type": "scatterternary"
           }
          ],
          "surface": [
           {
            "colorbar": {
             "outlinewidth": 0,
             "ticks": ""
            },
            "colorscale": [
             [
              0,
              "#0d0887"
             ],
             [
              0.1111111111111111,
              "#46039f"
             ],
             [
              0.2222222222222222,
              "#7201a8"
             ],
             [
              0.3333333333333333,
              "#9c179e"
             ],
             [
              0.4444444444444444,
              "#bd3786"
             ],
             [
              0.5555555555555556,
              "#d8576b"
             ],
             [
              0.6666666666666666,
              "#ed7953"
             ],
             [
              0.7777777777777778,
              "#fb9f3a"
             ],
             [
              0.8888888888888888,
              "#fdca26"
             ],
             [
              1,
              "#f0f921"
             ]
            ],
            "type": "surface"
           }
          ],
          "table": [
           {
            "cells": {
             "fill": {
              "color": "#EBF0F8"
             },
             "line": {
              "color": "white"
             }
            },
            "header": {
             "fill": {
              "color": "#C8D4E3"
             },
             "line": {
              "color": "white"
             }
            },
            "type": "table"
           }
          ]
         },
         "layout": {
          "annotationdefaults": {
           "arrowcolor": "#2a3f5f",
           "arrowhead": 0,
           "arrowwidth": 1
          },
          "autotypenumbers": "strict",
          "coloraxis": {
           "colorbar": {
            "outlinewidth": 0,
            "ticks": ""
           }
          },
          "colorscale": {
           "diverging": [
            [
             0,
             "#8e0152"
            ],
            [
             0.1,
             "#c51b7d"
            ],
            [
             0.2,
             "#de77ae"
            ],
            [
             0.3,
             "#f1b6da"
            ],
            [
             0.4,
             "#fde0ef"
            ],
            [
             0.5,
             "#f7f7f7"
            ],
            [
             0.6,
             "#e6f5d0"
            ],
            [
             0.7,
             "#b8e186"
            ],
            [
             0.8,
             "#7fbc41"
            ],
            [
             0.9,
             "#4d9221"
            ],
            [
             1,
             "#276419"
            ]
           ],
           "sequential": [
            [
             0,
             "#0d0887"
            ],
            [
             0.1111111111111111,
             "#46039f"
            ],
            [
             0.2222222222222222,
             "#7201a8"
            ],
            [
             0.3333333333333333,
             "#9c179e"
            ],
            [
             0.4444444444444444,
             "#bd3786"
            ],
            [
             0.5555555555555556,
             "#d8576b"
            ],
            [
             0.6666666666666666,
             "#ed7953"
            ],
            [
             0.7777777777777778,
             "#fb9f3a"
            ],
            [
             0.8888888888888888,
             "#fdca26"
            ],
            [
             1,
             "#f0f921"
            ]
           ],
           "sequentialminus": [
            [
             0,
             "#0d0887"
            ],
            [
             0.1111111111111111,
             "#46039f"
            ],
            [
             0.2222222222222222,
             "#7201a8"
            ],
            [
             0.3333333333333333,
             "#9c179e"
            ],
            [
             0.4444444444444444,
             "#bd3786"
            ],
            [
             0.5555555555555556,
             "#d8576b"
            ],
            [
             0.6666666666666666,
             "#ed7953"
            ],
            [
             0.7777777777777778,
             "#fb9f3a"
            ],
            [
             0.8888888888888888,
             "#fdca26"
            ],
            [
             1,
             "#f0f921"
            ]
           ]
          },
          "colorway": [
           "#636efa",
           "#EF553B",
           "#00cc96",
           "#ab63fa",
           "#FFA15A",
           "#19d3f3",
           "#FF6692",
           "#B6E880",
           "#FF97FF",
           "#FECB52"
          ],
          "font": {
           "color": "#2a3f5f"
          },
          "geo": {
           "bgcolor": "white",
           "lakecolor": "white",
           "landcolor": "#E5ECF6",
           "showlakes": true,
           "showland": true,
           "subunitcolor": "white"
          },
          "hoverlabel": {
           "align": "left"
          },
          "hovermode": "closest",
          "mapbox": {
           "style": "light"
          },
          "paper_bgcolor": "white",
          "plot_bgcolor": "#E5ECF6",
          "polar": {
           "angularaxis": {
            "gridcolor": "white",
            "linecolor": "white",
            "ticks": ""
           },
           "bgcolor": "#E5ECF6",
           "radialaxis": {
            "gridcolor": "white",
            "linecolor": "white",
            "ticks": ""
           }
          },
          "scene": {
           "xaxis": {
            "backgroundcolor": "#E5ECF6",
            "gridcolor": "white",
            "gridwidth": 2,
            "linecolor": "white",
            "showbackground": true,
            "ticks": "",
            "zerolinecolor": "white"
           },
           "yaxis": {
            "backgroundcolor": "#E5ECF6",
            "gridcolor": "white",
            "gridwidth": 2,
            "linecolor": "white",
            "showbackground": true,
            "ticks": "",
            "zerolinecolor": "white"
           },
           "zaxis": {
            "backgroundcolor": "#E5ECF6",
            "gridcolor": "white",
            "gridwidth": 2,
            "linecolor": "white",
            "showbackground": true,
            "ticks": "",
            "zerolinecolor": "white"
           }
          },
          "shapedefaults": {
           "line": {
            "color": "#2a3f5f"
           }
          },
          "ternary": {
           "aaxis": {
            "gridcolor": "white",
            "linecolor": "white",
            "ticks": ""
           },
           "baxis": {
            "gridcolor": "white",
            "linecolor": "white",
            "ticks": ""
           },
           "bgcolor": "#E5ECF6",
           "caxis": {
            "gridcolor": "white",
            "linecolor": "white",
            "ticks": ""
           }
          },
          "title": {
           "x": 0.05
          },
          "xaxis": {
           "automargin": true,
           "gridcolor": "white",
           "linecolor": "white",
           "ticks": "",
           "title": {
            "standoff": 15
           },
           "zerolinecolor": "white",
           "zerolinewidth": 2
          },
          "yaxis": {
           "automargin": true,
           "gridcolor": "white",
           "linecolor": "white",
           "ticks": "",
           "title": {
            "standoff": 15
           },
           "zerolinecolor": "white",
           "zerolinewidth": 2
          }
         }
        },
        "xaxis": {
         "anchor": "y",
         "domain": [
          0,
          1
         ],
         "title": {
          "text": "year"
         }
        },
        "yaxis": {
         "anchor": "x",
         "domain": [
          0,
          1
         ],
         "title": {
          "text": "mx"
         },
         "type": "log"
        }
       }
      }
     },
     "metadata": {},
     "output_type": "display_data"
    }
   ],
   "source": [
    "fig = px.area(\n",
    "    data_frame = d2, \n",
    "    x = 'year', y = 'mx',\n",
    "    log_y=True, \n",
    "    hover_data={'text':True, 'year': False, 'mx':False}   \n",
    "    )\n",
    "\n",
    "fig.show()"
   ]
  },
  {
   "attachments": {},
   "cell_type": "markdown",
   "metadata": {},
   "source": [
    "This mostly works but the 'text' word decorator is present. To remove it completely I'd need to use go instead of px, which is slightly more involved. "
   ]
  },
  {
   "cell_type": "code",
   "execution_count": 57,
   "metadata": {},
   "outputs": [
    {
     "data": {
      "application/vnd.plotly.v1+json": {
       "config": {
        "plotlyServerURL": "https://plot.ly"
       },
       "data": [
        {
         "fill": "tozeroy",
         "hovertemplate": "%{text}",
         "text": [
          "In 1933 at age 0 the female mortality rate was 0.0542",
          "In 1934 at age 0 the female mortality rate was 0.0602",
          "In 1935 at age 0 the female mortality rate was 0.0536",
          "In 1936 at age 0 the female mortality rate was 0.0552",
          "In 1937 at age 0 the female mortality rate was 0.0539",
          "In 1938 at age 0 the female mortality rate was 0.0507",
          "In 1939 at age 0 the female mortality rate was 0.0468",
          "In 1940 at age 0 the female mortality rate was 0.0468",
          "In 1941 at age 0 the female mortality rate was 0.0460",
          "In 1942 at age 0 the female mortality rate was 0.0425",
          "In 1943 at age 0 the female mortality rate was 0.0394",
          "In 1944 at age 0 the female mortality rate was 0.0388",
          "In 1945 at age 0 the female mortality rate was 0.0369",
          "In 1946 at age 0 the female mortality rate was 0.0380",
          "In 1947 at age 0 the female mortality rate was 0.0314",
          "In 1948 at age 0 the female mortality rate was 0.0307",
          "In 1949 at age 0 the female mortality rate was 0.0305",
          "In 1950 at age 0 the female mortality rate was 0.0282",
          "In 1951 at age 0 the female mortality rate was 0.0279",
          "In 1952 at age 0 the female mortality rate was 0.0279",
          "In 1953 at age 0 the female mortality rate was 0.0265",
          "In 1954 at age 0 the female mortality rate was 0.0253",
          "In 1955 at age 0 the female mortality rate was 0.0246",
          "In 1956 at age 0 the female mortality rate was 0.0241",
          "In 1957 at age 0 the female mortality rate was 0.0243",
          "In 1958 at age 0 the female mortality rate was 0.0244",
          "In 1959 at age 0 the female mortality rate was 0.0237",
          "In 1960 at age 0 the female mortality rate was 0.0232",
          "In 1961 at age 0 the female mortality rate was 0.0224",
          "In 1962 at age 0 the female mortality rate was 0.0221",
          "In 1963 at age 0 the female mortality rate was 0.0221",
          "In 1964 at age 0 the female mortality rate was 0.0220",
          "In 1965 at age 0 the female mortality rate was 0.0213",
          "In 1966 at age 0 the female mortality rate was 0.0207",
          "In 1967 at age 0 the female mortality rate was 0.0197",
          "In 1968 at age 0 the female mortality rate was 0.0195",
          "In 1969 at age 0 the female mortality rate was 0.0189",
          "In 1970 at age 0 the female mortality rate was 0.0185",
          "In 1971 at age 0 the female mortality rate was 0.0166",
          "In 1972 at age 0 the female mortality rate was 0.0157",
          "In 1973 at age 0 the female mortality rate was 0.0152",
          "In 1974 at age 0 the female mortality rate was 0.0149",
          "In 1975 at age 0 the female mortality rate was 0.0142",
          "In 1976 at age 0 the female mortality rate was 0.0136",
          "In 1977 at age 0 the female mortality rate was 0.0126",
          "In 1978 at age 0 the female mortality rate was 0.0122",
          "In 1979 at age 0 the female mortality rate was 0.0117",
          "In 1980 at age 0 the female mortality rate was 0.0114",
          "In 1981 at age 0 the female mortality rate was 0.0107",
          "In 1982 at age 0 the female mortality rate was 0.0103",
          "In 1983 at age 0 the female mortality rate was 0.0099",
          "In 1984 at age 0 the female mortality rate was 0.0098",
          "In 1985 at age 0 the female mortality rate was 0.0095",
          "In 1986 at age 0 the female mortality rate was 0.0092",
          "In 1987 at age 0 the female mortality rate was 0.0092",
          "In 1988 at age 0 the female mortality rate was 0.0092",
          "In 1989 at age 0 the female mortality rate was 0.0093",
          "In 1990 at age 0 the female mortality rate was 0.0086",
          "In 1991 at age 0 the female mortality rate was 0.0082",
          "In 1992 at age 0 the female mortality rate was 0.0078",
          "In 1993 at age 0 the female mortality rate was 0.0076",
          "In 1994 at age 0 the female mortality rate was 0.0074",
          "In 1995 at age 0 the female mortality rate was 0.0070",
          "In 1996 at age 0 the female mortality rate was 0.0069",
          "In 1997 at age 0 the female mortality rate was 0.0067",
          "In 1998 at age 0 the female mortality rate was 0.0069",
          "In 1999 at age 0 the female mortality rate was 0.0066",
          "In 2000 at age 0 the female mortality rate was 0.0065",
          "In 2001 at age 0 the female mortality rate was 0.0062",
          "In 2002 at age 0 the female mortality rate was 0.0063",
          "In 2003 at age 0 the female mortality rate was 0.0062",
          "In 2004 at age 0 the female mortality rate was 0.0062",
          "In 2005 at age 0 the female mortality rate was 0.0063",
          "In 2006 at age 0 the female mortality rate was 0.0063",
          "In 2007 at age 0 the female mortality rate was 0.0064",
          "In 2008 at age 0 the female mortality rate was 0.0061",
          "In 2009 at age 0 the female mortality rate was 0.0059",
          "In 2010 at age 0 the female mortality rate was 0.0056",
          "In 2011 at age 0 the female mortality rate was 0.0055",
          "In 2012 at age 0 the female mortality rate was 0.0055",
          "In 2013 at age 0 the female mortality rate was 0.0054",
          "In 2014 at age 0 the female mortality rate was 0.0053",
          "In 2015 at age 0 the female mortality rate was 0.0054",
          "In 2016 at age 0 the female mortality rate was 0.0053",
          "In 2017 at age 0 the female mortality rate was 0.0052",
          "In 2018 at age 0 the female mortality rate was 0.0050",
          "In 2019 at age 0 the female mortality rate was 0.0050",
          "In 2020 at age 0 the female mortality rate was 0.0048",
          "In 2021 at age 0 the female mortality rate was 0.0051"
         ],
         "type": "scatter",
         "x": [
          1933,
          1934,
          1935,
          1936,
          1937,
          1938,
          1939,
          1940,
          1941,
          1942,
          1943,
          1944,
          1945,
          1946,
          1947,
          1948,
          1949,
          1950,
          1951,
          1952,
          1953,
          1954,
          1955,
          1956,
          1957,
          1958,
          1959,
          1960,
          1961,
          1962,
          1963,
          1964,
          1965,
          1966,
          1967,
          1968,
          1969,
          1970,
          1971,
          1972,
          1973,
          1974,
          1975,
          1976,
          1977,
          1978,
          1979,
          1980,
          1981,
          1982,
          1983,
          1984,
          1985,
          1986,
          1987,
          1988,
          1989,
          1990,
          1991,
          1992,
          1993,
          1994,
          1995,
          1996,
          1997,
          1998,
          1999,
          2000,
          2001,
          2002,
          2003,
          2004,
          2005,
          2006,
          2007,
          2008,
          2009,
          2010,
          2011,
          2012,
          2013,
          2014,
          2015,
          2016,
          2017,
          2018,
          2019,
          2020,
          2021
         ],
         "y": [
          0.054177,
          0.060211,
          0.053557,
          0.05516,
          0.053895,
          0.050748,
          0.046848,
          0.046847,
          0.046043,
          0.042484,
          0.039437,
          0.038848,
          0.0369,
          0.037959,
          0.031355,
          0.030705,
          0.030533,
          0.028208,
          0.027885,
          0.027858,
          0.026524,
          0.025308,
          0.02465,
          0.02414,
          0.024322,
          0.024429,
          0.023706,
          0.023229,
          0.022388,
          0.022135,
          0.02208,
          0.021994,
          0.021288,
          0.020677,
          0.01974,
          0.019456,
          0.018882,
          0.018538,
          0.01662,
          0.015683,
          0.015246,
          0.014905,
          0.014161,
          0.013616,
          0.012575,
          0.012223,
          0.011711,
          0.011387,
          0.010687,
          0.0103,
          0.00993,
          0.009796,
          0.009528,
          0.009218,
          0.009162,
          0.009183,
          0.009269,
          0.008607,
          0.008151,
          0.007828,
          0.007635,
          0.007431,
          0.007025,
          0.006854,
          0.00669,
          0.006852,
          0.006629,
          0.006499,
          0.006229,
          0.006349,
          0.006235,
          0.006248,
          0.006328,
          0.006336,
          0.006358,
          0.006143,
          0.005887,
          0.005627,
          0.005516,
          0.005465,
          0.005361,
          0.00534,
          0.005375,
          0.005332,
          0.0051919999999999,
          0.005014,
          0.005026,
          0.004824,
          0.005146
         ]
        }
       ],
       "layout": {
        "template": {
         "data": {
          "bar": [
           {
            "error_x": {
             "color": "#2a3f5f"
            },
            "error_y": {
             "color": "#2a3f5f"
            },
            "marker": {
             "line": {
              "color": "#E5ECF6",
              "width": 0.5
             },
             "pattern": {
              "fillmode": "overlay",
              "size": 10,
              "solidity": 0.2
             }
            },
            "type": "bar"
           }
          ],
          "barpolar": [
           {
            "marker": {
             "line": {
              "color": "#E5ECF6",
              "width": 0.5
             },
             "pattern": {
              "fillmode": "overlay",
              "size": 10,
              "solidity": 0.2
             }
            },
            "type": "barpolar"
           }
          ],
          "carpet": [
           {
            "aaxis": {
             "endlinecolor": "#2a3f5f",
             "gridcolor": "white",
             "linecolor": "white",
             "minorgridcolor": "white",
             "startlinecolor": "#2a3f5f"
            },
            "baxis": {
             "endlinecolor": "#2a3f5f",
             "gridcolor": "white",
             "linecolor": "white",
             "minorgridcolor": "white",
             "startlinecolor": "#2a3f5f"
            },
            "type": "carpet"
           }
          ],
          "choropleth": [
           {
            "colorbar": {
             "outlinewidth": 0,
             "ticks": ""
            },
            "type": "choropleth"
           }
          ],
          "contour": [
           {
            "colorbar": {
             "outlinewidth": 0,
             "ticks": ""
            },
            "colorscale": [
             [
              0,
              "#0d0887"
             ],
             [
              0.1111111111111111,
              "#46039f"
             ],
             [
              0.2222222222222222,
              "#7201a8"
             ],
             [
              0.3333333333333333,
              "#9c179e"
             ],
             [
              0.4444444444444444,
              "#bd3786"
             ],
             [
              0.5555555555555556,
              "#d8576b"
             ],
             [
              0.6666666666666666,
              "#ed7953"
             ],
             [
              0.7777777777777778,
              "#fb9f3a"
             ],
             [
              0.8888888888888888,
              "#fdca26"
             ],
             [
              1,
              "#f0f921"
             ]
            ],
            "type": "contour"
           }
          ],
          "contourcarpet": [
           {
            "colorbar": {
             "outlinewidth": 0,
             "ticks": ""
            },
            "type": "contourcarpet"
           }
          ],
          "heatmap": [
           {
            "colorbar": {
             "outlinewidth": 0,
             "ticks": ""
            },
            "colorscale": [
             [
              0,
              "#0d0887"
             ],
             [
              0.1111111111111111,
              "#46039f"
             ],
             [
              0.2222222222222222,
              "#7201a8"
             ],
             [
              0.3333333333333333,
              "#9c179e"
             ],
             [
              0.4444444444444444,
              "#bd3786"
             ],
             [
              0.5555555555555556,
              "#d8576b"
             ],
             [
              0.6666666666666666,
              "#ed7953"
             ],
             [
              0.7777777777777778,
              "#fb9f3a"
             ],
             [
              0.8888888888888888,
              "#fdca26"
             ],
             [
              1,
              "#f0f921"
             ]
            ],
            "type": "heatmap"
           }
          ],
          "heatmapgl": [
           {
            "colorbar": {
             "outlinewidth": 0,
             "ticks": ""
            },
            "colorscale": [
             [
              0,
              "#0d0887"
             ],
             [
              0.1111111111111111,
              "#46039f"
             ],
             [
              0.2222222222222222,
              "#7201a8"
             ],
             [
              0.3333333333333333,
              "#9c179e"
             ],
             [
              0.4444444444444444,
              "#bd3786"
             ],
             [
              0.5555555555555556,
              "#d8576b"
             ],
             [
              0.6666666666666666,
              "#ed7953"
             ],
             [
              0.7777777777777778,
              "#fb9f3a"
             ],
             [
              0.8888888888888888,
              "#fdca26"
             ],
             [
              1,
              "#f0f921"
             ]
            ],
            "type": "heatmapgl"
           }
          ],
          "histogram": [
           {
            "marker": {
             "pattern": {
              "fillmode": "overlay",
              "size": 10,
              "solidity": 0.2
             }
            },
            "type": "histogram"
           }
          ],
          "histogram2d": [
           {
            "colorbar": {
             "outlinewidth": 0,
             "ticks": ""
            },
            "colorscale": [
             [
              0,
              "#0d0887"
             ],
             [
              0.1111111111111111,
              "#46039f"
             ],
             [
              0.2222222222222222,
              "#7201a8"
             ],
             [
              0.3333333333333333,
              "#9c179e"
             ],
             [
              0.4444444444444444,
              "#bd3786"
             ],
             [
              0.5555555555555556,
              "#d8576b"
             ],
             [
              0.6666666666666666,
              "#ed7953"
             ],
             [
              0.7777777777777778,
              "#fb9f3a"
             ],
             [
              0.8888888888888888,
              "#fdca26"
             ],
             [
              1,
              "#f0f921"
             ]
            ],
            "type": "histogram2d"
           }
          ],
          "histogram2dcontour": [
           {
            "colorbar": {
             "outlinewidth": 0,
             "ticks": ""
            },
            "colorscale": [
             [
              0,
              "#0d0887"
             ],
             [
              0.1111111111111111,
              "#46039f"
             ],
             [
              0.2222222222222222,
              "#7201a8"
             ],
             [
              0.3333333333333333,
              "#9c179e"
             ],
             [
              0.4444444444444444,
              "#bd3786"
             ],
             [
              0.5555555555555556,
              "#d8576b"
             ],
             [
              0.6666666666666666,
              "#ed7953"
             ],
             [
              0.7777777777777778,
              "#fb9f3a"
             ],
             [
              0.8888888888888888,
              "#fdca26"
             ],
             [
              1,
              "#f0f921"
             ]
            ],
            "type": "histogram2dcontour"
           }
          ],
          "mesh3d": [
           {
            "colorbar": {
             "outlinewidth": 0,
             "ticks": ""
            },
            "type": "mesh3d"
           }
          ],
          "parcoords": [
           {
            "line": {
             "colorbar": {
              "outlinewidth": 0,
              "ticks": ""
             }
            },
            "type": "parcoords"
           }
          ],
          "pie": [
           {
            "automargin": true,
            "type": "pie"
           }
          ],
          "scatter": [
           {
            "fillpattern": {
             "fillmode": "overlay",
             "size": 10,
             "solidity": 0.2
            },
            "type": "scatter"
           }
          ],
          "scatter3d": [
           {
            "line": {
             "colorbar": {
              "outlinewidth": 0,
              "ticks": ""
             }
            },
            "marker": {
             "colorbar": {
              "outlinewidth": 0,
              "ticks": ""
             }
            },
            "type": "scatter3d"
           }
          ],
          "scattercarpet": [
           {
            "marker": {
             "colorbar": {
              "outlinewidth": 0,
              "ticks": ""
             }
            },
            "type": "scattercarpet"
           }
          ],
          "scattergeo": [
           {
            "marker": {
             "colorbar": {
              "outlinewidth": 0,
              "ticks": ""
             }
            },
            "type": "scattergeo"
           }
          ],
          "scattergl": [
           {
            "marker": {
             "colorbar": {
              "outlinewidth": 0,
              "ticks": ""
             }
            },
            "type": "scattergl"
           }
          ],
          "scattermapbox": [
           {
            "marker": {
             "colorbar": {
              "outlinewidth": 0,
              "ticks": ""
             }
            },
            "type": "scattermapbox"
           }
          ],
          "scatterpolar": [
           {
            "marker": {
             "colorbar": {
              "outlinewidth": 0,
              "ticks": ""
             }
            },
            "type": "scatterpolar"
           }
          ],
          "scatterpolargl": [
           {
            "marker": {
             "colorbar": {
              "outlinewidth": 0,
              "ticks": ""
             }
            },
            "type": "scatterpolargl"
           }
          ],
          "scatterternary": [
           {
            "marker": {
             "colorbar": {
              "outlinewidth": 0,
              "ticks": ""
             }
            },
            "type": "scatterternary"
           }
          ],
          "surface": [
           {
            "colorbar": {
             "outlinewidth": 0,
             "ticks": ""
            },
            "colorscale": [
             [
              0,
              "#0d0887"
             ],
             [
              0.1111111111111111,
              "#46039f"
             ],
             [
              0.2222222222222222,
              "#7201a8"
             ],
             [
              0.3333333333333333,
              "#9c179e"
             ],
             [
              0.4444444444444444,
              "#bd3786"
             ],
             [
              0.5555555555555556,
              "#d8576b"
             ],
             [
              0.6666666666666666,
              "#ed7953"
             ],
             [
              0.7777777777777778,
              "#fb9f3a"
             ],
             [
              0.8888888888888888,
              "#fdca26"
             ],
             [
              1,
              "#f0f921"
             ]
            ],
            "type": "surface"
           }
          ],
          "table": [
           {
            "cells": {
             "fill": {
              "color": "#EBF0F8"
             },
             "line": {
              "color": "white"
             }
            },
            "header": {
             "fill": {
              "color": "#C8D4E3"
             },
             "line": {
              "color": "white"
             }
            },
            "type": "table"
           }
          ]
         },
         "layout": {
          "annotationdefaults": {
           "arrowcolor": "#2a3f5f",
           "arrowhead": 0,
           "arrowwidth": 1
          },
          "autotypenumbers": "strict",
          "coloraxis": {
           "colorbar": {
            "outlinewidth": 0,
            "ticks": ""
           }
          },
          "colorscale": {
           "diverging": [
            [
             0,
             "#8e0152"
            ],
            [
             0.1,
             "#c51b7d"
            ],
            [
             0.2,
             "#de77ae"
            ],
            [
             0.3,
             "#f1b6da"
            ],
            [
             0.4,
             "#fde0ef"
            ],
            [
             0.5,
             "#f7f7f7"
            ],
            [
             0.6,
             "#e6f5d0"
            ],
            [
             0.7,
             "#b8e186"
            ],
            [
             0.8,
             "#7fbc41"
            ],
            [
             0.9,
             "#4d9221"
            ],
            [
             1,
             "#276419"
            ]
           ],
           "sequential": [
            [
             0,
             "#0d0887"
            ],
            [
             0.1111111111111111,
             "#46039f"
            ],
            [
             0.2222222222222222,
             "#7201a8"
            ],
            [
             0.3333333333333333,
             "#9c179e"
            ],
            [
             0.4444444444444444,
             "#bd3786"
            ],
            [
             0.5555555555555556,
             "#d8576b"
            ],
            [
             0.6666666666666666,
             "#ed7953"
            ],
            [
             0.7777777777777778,
             "#fb9f3a"
            ],
            [
             0.8888888888888888,
             "#fdca26"
            ],
            [
             1,
             "#f0f921"
            ]
           ],
           "sequentialminus": [
            [
             0,
             "#0d0887"
            ],
            [
             0.1111111111111111,
             "#46039f"
            ],
            [
             0.2222222222222222,
             "#7201a8"
            ],
            [
             0.3333333333333333,
             "#9c179e"
            ],
            [
             0.4444444444444444,
             "#bd3786"
            ],
            [
             0.5555555555555556,
             "#d8576b"
            ],
            [
             0.6666666666666666,
             "#ed7953"
            ],
            [
             0.7777777777777778,
             "#fb9f3a"
            ],
            [
             0.8888888888888888,
             "#fdca26"
            ],
            [
             1,
             "#f0f921"
            ]
           ]
          },
          "colorway": [
           "#636efa",
           "#EF553B",
           "#00cc96",
           "#ab63fa",
           "#FFA15A",
           "#19d3f3",
           "#FF6692",
           "#B6E880",
           "#FF97FF",
           "#FECB52"
          ],
          "font": {
           "color": "#2a3f5f"
          },
          "geo": {
           "bgcolor": "white",
           "lakecolor": "white",
           "landcolor": "#E5ECF6",
           "showlakes": true,
           "showland": true,
           "subunitcolor": "white"
          },
          "hoverlabel": {
           "align": "left"
          },
          "hovermode": "closest",
          "mapbox": {
           "style": "light"
          },
          "paper_bgcolor": "white",
          "plot_bgcolor": "#E5ECF6",
          "polar": {
           "angularaxis": {
            "gridcolor": "white",
            "linecolor": "white",
            "ticks": ""
           },
           "bgcolor": "#E5ECF6",
           "radialaxis": {
            "gridcolor": "white",
            "linecolor": "white",
            "ticks": ""
           }
          },
          "scene": {
           "xaxis": {
            "backgroundcolor": "#E5ECF6",
            "gridcolor": "white",
            "gridwidth": 2,
            "linecolor": "white",
            "showbackground": true,
            "ticks": "",
            "zerolinecolor": "white"
           },
           "yaxis": {
            "backgroundcolor": "#E5ECF6",
            "gridcolor": "white",
            "gridwidth": 2,
            "linecolor": "white",
            "showbackground": true,
            "ticks": "",
            "zerolinecolor": "white"
           },
           "zaxis": {
            "backgroundcolor": "#E5ECF6",
            "gridcolor": "white",
            "gridwidth": 2,
            "linecolor": "white",
            "showbackground": true,
            "ticks": "",
            "zerolinecolor": "white"
           }
          },
          "shapedefaults": {
           "line": {
            "color": "#2a3f5f"
           }
          },
          "ternary": {
           "aaxis": {
            "gridcolor": "white",
            "linecolor": "white",
            "ticks": ""
           },
           "baxis": {
            "gridcolor": "white",
            "linecolor": "white",
            "ticks": ""
           },
           "bgcolor": "#E5ECF6",
           "caxis": {
            "gridcolor": "white",
            "linecolor": "white",
            "ticks": ""
           }
          },
          "title": {
           "x": 0.05
          },
          "xaxis": {
           "automargin": true,
           "gridcolor": "white",
           "linecolor": "white",
           "ticks": "",
           "title": {
            "standoff": 15
           },
           "zerolinecolor": "white",
           "zerolinewidth": 2
          },
          "yaxis": {
           "automargin": true,
           "gridcolor": "white",
           "linecolor": "white",
           "ticks": "",
           "title": {
            "standoff": 15
           },
           "zerolinecolor": "white",
           "zerolinewidth": 2
          }
         }
        },
        "xaxis": {
         "title": {
          "text": "Year"
         }
        },
        "yaxis": {
         "title": {
          "text": "Mx"
         },
         "type": "log"
        }
       }
      }
     },
     "metadata": {},
     "output_type": "display_data"
    }
   ],
   "source": [
    "figo = go.Figure()\n",
    "\n",
    "figo.add_trace(\n",
    "    go.Scatter(\n",
    "        x = d2['year'],\n",
    "        y = d2['mx'],\n",
    "        text = d2['text'],\n",
    "        fill = 'tozeroy',\n",
    "        hovertemplate = '%{text}'\n",
    "    )\n",
    ")\n",
    "figo.update_layout(\n",
    "    xaxis_title = 'Year',\n",
    "    yaxis_title = \"Mx\",\n",
    "    yaxis_type = 'log'\n",
    ")\n",
    "\n",
    "figo.show()"
   ]
  },
  {
   "attachments": {},
   "cell_type": "markdown",
   "metadata": {},
   "source": [
    "This is good enough for now! "
   ]
  }
 ],
 "metadata": {
  "kernelspec": {
   "display_name": "Python 3",
   "language": "python",
   "name": "python3"
  },
  "language_info": {
   "codemirror_mode": {
    "name": "ipython",
    "version": 3
   },
   "file_extension": ".py",
   "mimetype": "text/x-python",
   "name": "python",
   "nbconvert_exporter": "python",
   "pygments_lexer": "ipython3",
   "version": "3.10.9"
  },
  "orig_nbformat": 4
 },
 "nbformat": 4,
 "nbformat_minor": 2
}
